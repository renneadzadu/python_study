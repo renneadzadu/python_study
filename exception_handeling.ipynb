{
 "cells": [
  {
   "cell_type": "code",
   "execution_count": 5,
   "metadata": {},
   "outputs": [
    {
     "ename": "KeyError",
     "evalue": "' '",
     "output_type": "error",
     "traceback": [
      "\u001b[1;31m---------------------------------------------------------------------------\u001b[0m",
      "\u001b[1;31mKeyError\u001b[0m                                  Traceback (most recent call last)",
      "Cell \u001b[1;32mIn[5], line 2\u001b[0m\n\u001b[0;32m      1\u001b[0m x\u001b[39m=\u001b[39m\u001b[39m10\u001b[39m\n\u001b[1;32m----> 2\u001b[0m \u001b[39massert\u001b[39;00m x \u001b[39m<\u001b[39m\u001b[39m=\u001b[39m \u001b[39m5\u001b[39m, \u001b[39m'\u001b[39;49m\u001b[39mx should not exceed 5. The value of x was \u001b[39;49m\u001b[39m{\u001b[39;49m\u001b[39m }\u001b[39;49m\u001b[39m'\u001b[39;49m\u001b[39m.\u001b[39;49m \u001b[39mformat\u001b[39;49m (x)\n\u001b[0;32m      3\u001b[0m \u001b[39m#print(\"He110 World\")\u001b[39;00m\n\u001b[0;32m      4\u001b[0m \u001b[39mdef\u001b[39;00m \u001b[39msum\u001b[39m(numl, num2):\n",
      "\u001b[1;31mKeyError\u001b[0m: ' '"
     ]
    }
   ],
   "source": [
    "x=10\n",
    "assert x <= 5, 'x should not exceed 5. The value of x was { }'. format (x)\n",
    "#print(\"He110 World\")\n",
    "def sum(numl, num2):\n",
    "    total= numl + num2\n",
    "    return total\n",
    "answer =sum(2,2)\n"
   ]
  },
  {
   "cell_type": "code",
   "execution_count": 11,
   "metadata": {},
   "outputs": [],
   "source": [
    "x= 10\n",
    "def modify_x():\n",
    "    assert x <= 5, 'x should not exceed 5. The value of x was {}' . format(x)\n",
    "    print('x is being modified')\n",
    "    print(x)"
   ]
  },
  {
   "cell_type": "code",
   "execution_count": 13,
   "metadata": {},
   "outputs": [
    {
     "name": "stdout",
     "output_type": "stream",
     "text": [
      "x should not exceed 5. The value of x was 50\n"
     ]
    }
   ],
   "source": [
    "try:\n",
    "    x=50\n",
    "    modify_x( )\n",
    "except AssertionError as error:\n",
    "    print(error)"
   ]
  },
  {
   "cell_type": "code",
   "execution_count": 15,
   "metadata": {},
   "outputs": [
    {
     "name": "stdout",
     "output_type": "stream",
     "text": [
      "[Errno 2] No such file or directory: 'my_filel . txt '\n",
      "file does not exist\n"
     ]
    }
   ],
   "source": [
    "try:\n",
    "    f= open( 'my_filel . txt ' )\n",
    "except FileNotFoundError as fnf_error:\n",
    "    print(fnf_error)\n",
    "    print( 'file does not exist')"
   ]
  }
 ],
 "metadata": {
  "kernelspec": {
   "display_name": "Python 3",
   "language": "python",
   "name": "python3"
  },
  "language_info": {
   "codemirror_mode": {
    "name": "ipython",
    "version": 3
   },
   "file_extension": ".py",
   "mimetype": "text/x-python",
   "name": "python",
   "nbconvert_exporter": "python",
   "pygments_lexer": "ipython3",
   "version": "3.10.10"
  },
  "orig_nbformat": 4
 },
 "nbformat": 4,
 "nbformat_minor": 2
}
