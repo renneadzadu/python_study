{
 "cells": [
  {
   "cell_type": "code",
   "execution_count": 3,
   "metadata": {},
   "outputs": [
    {
     "name": "stdout",
     "output_type": "stream",
     "text": [
      "<re.Match object; span=(2, 5), match='aza'>\n",
      "<re.Match object; span=(1, 4), match='aza'>\n"
     ]
    }
   ],
   "source": [
    "import re\n",
    "\n",
    "result = re.search(r\"aza\", \"plaza\")\n",
    "print(result)\n",
    "\n",
    "result = re.search(r\"aza\", \"bazaar\")\n",
    "print(result)\n",
    "\n"
   ]
  },
  {
   "cell_type": "code",
   "execution_count": 21,
   "metadata": {},
   "outputs": [
    {
     "name": "stdout",
     "output_type": "stream",
     "text": [
      "<re.Match object; span=(10, 14), match='hway'>\n"
     ]
    }
   ],
   "source": [
    "\n",
    "print(re.search( r\"[a-z]way\", \"What a highway to go\"))\n"
   ]
  },
  {
   "cell_type": "code",
   "execution_count": 15,
   "metadata": {},
   "outputs": [
    {
     "name": "stdout",
     "output_type": "stream",
     "text": [
      "<re.Match object; span=(2, 7), match='ademi'>\n",
      "True\n",
      "None\n",
      "False\n",
      "<re.Match object; span=(3, 8), match='amedi'>\n",
      "True\n"
     ]
    }
   ],
   "source": [
    "import re\n",
    "\n",
    "def check_aei (text) :\n",
    "    result = re.search(r\"a.e.i\", text)\n",
    "    print(result)\n",
    "    return result != None\n",
    "\n",
    "print(check_aei(\"academia\")) # True\n",
    "print(check_aei(\"aerial\")) # False\n",
    "print(check_aei(\"paramedic\")) # True\n"
   ]
  },
  {
   "cell_type": "code",
   "execution_count": 33,
   "metadata": {},
   "outputs": [
    {
     "name": "stdout",
     "output_type": "stream",
     "text": [
      "['cat', 'cat']\n",
      "['cat']\n",
      "<re.Match object; span=(0, 9), match='Pygmalion'>\n",
      "<re.Match object; span=(0, 17), match='Python Programmin'>\n",
      "<re.Match object; span=(0, 21), match='Python Programminnngn'>\n"
     ]
    }
   ],
   "source": [
    "print (re. findall( r\"cat|dog \" ,\"I like fluffy dogs, small cat, big dogs, and mean cats. \" ) )\n",
    "\n",
    "print(re.findall(r'cat|attack', \"cattack\"))\n",
    "print(re.search(r\"Py.*n\", \"Pygmalion\"))\n",
    "print(re.search(r\"Py.*n\", \"Python Programming\")) # doesnt return g because the last match is n\n",
    "print(re.search(r\"Py.*n\", \"Python Programminnngn\")) # doesnt return g because the last match is n\n",
    "\n"
   ]
  },
  {
   "cell_type": "code",
   "execution_count": 36,
   "metadata": {},
   "outputs": [
    {
     "name": "stdout",
     "output_type": "stream",
     "text": [
      "<re.Match object; span=(1, 3), match='ol'>\n",
      "<re.Match object; span=(1, 5), match='ooll'>\n"
     ]
    }
   ],
   "source": [
    "print(re.search(r\"o+l+\", \"goldfish\"))\n",
    "print(re.search(r\"o+l+\", \"woolly\"))"
   ]
  },
  {
   "cell_type": "code",
   "execution_count": 42,
   "metadata": {},
   "outputs": [
    {
     "name": "stdout",
     "output_type": "stream",
     "text": [
      "<re.Match object; span=(0, 13), match='Lovelace, Ada'>\n",
      "Lovelace, Ada\n"
     ]
    }
   ],
   "source": [
    "result = re.search(r\"^(\\w*), (\\w*)$\", \"Lovelace, Ada\") #creatin groups with ()\n",
    "print(result)\n",
    "print(result.group())\n"
   ]
  },
  {
   "cell_type": "code",
   "execution_count": 45,
   "metadata": {},
   "outputs": [
    {
     "name": "stdout",
     "output_type": "stream",
     "text": [
      "friendlyAfriendly friendlylfriendlyifriendlytfriendlytfriendlylfriendlyefriendly friendlyfriendlycfriendlyafriendlyrfriendlyyfriendly friendlygfriendlyhfriendlyofriendlyfriendlytfriendly friendlyafriendlypfriendlypfriendlyefriendlyafriendlyrfriendlyefriendlydfriendly\n",
      "['scary', 'ghost']\n"
     ]
    }
   ],
   "source": [
    "print(re.sub(r\"s*\", \"friendly\", \"A little scary ghost appeared\"))\n",
    "print(re.findall(r\"\\b[a-zA-Z]{5}\\b\",  \"A little scary ghost appeared\"))\n",
    "print(re.findall(r\"\\b\"))"
   ]
  },
  {
   "cell_type": "code",
   "execution_count": 43,
   "metadata": {},
   "outputs": [
    {
     "ename": "NameError",
     "evalue": "name 'findall' is not defined",
     "output_type": "error",
     "traceback": [
      "\u001b[1;31m---------------------------------------------------------------------------\u001b[0m",
      "\u001b[1;31mNameError\u001b[0m                                 Traceback (most recent call last)",
      "Cell \u001b[1;32mIn[43], line 1\u001b[0m\n\u001b[1;32m----> 1\u001b[0m \u001b[39mprint\u001b[39m(findall(\u001b[39mr\u001b[39m\u001b[39m\"\u001b[39m\u001b[39m\\\u001b[39m\u001b[39mw\u001b[39m\u001b[39m{\u001b[39m\u001b[39m5,10}\u001b[39m\u001b[39m\"\u001b[39m, \u001b[39m\"\u001b[39m\u001b[39mi really like strawberries\u001b[39m\u001b[39m\"\u001b[39m))\n",
      "\u001b[1;31mNameError\u001b[0m: name 'findall' is not defined"
     ]
    }
   ],
   "source": [
    "print(findall(r\"\\w{5,10}\", \"i really like strawberries\"))"
   ]
  }
 ],
 "metadata": {
  "kernelspec": {
   "display_name": "Python 3",
   "language": "python",
   "name": "python3"
  },
  "language_info": {
   "codemirror_mode": {
    "name": "ipython",
    "version": 3
   },
   "file_extension": ".py",
   "mimetype": "text/x-python",
   "name": "python",
   "nbconvert_exporter": "python",
   "pygments_lexer": "ipython3",
   "version": "3.10.10"
  },
  "orig_nbformat": 4
 },
 "nbformat": 4,
 "nbformat_minor": 2
}
