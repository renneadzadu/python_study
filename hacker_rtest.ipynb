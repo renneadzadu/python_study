{
 "cells": [
  {
   "cell_type": "code",
   "execution_count": 4,
   "metadata": {},
   "outputs": [],
   "source": [
    "import math\n",
    "import os\n",
    "import random\n",
    "import re\n",
    "import sys\n",
    "import json\n",
    "import requests\n",
    "from pprint import pprint"
   ]
  },
  {
   "cell_type": "code",
   "execution_count": 76,
   "metadata": {},
   "outputs": [
    {
     "name": "stdout",
     "output_type": "stream",
     "text": [
      "[99, 103]\n"
     ]
    }
   ],
   "source": [
    "def bodyTemperature(doctorName, diagnosisId):\n",
    "    url = \"https://jsonmock.hackerrank.com/api/medical_records?page=\"\n",
    "    totalpg = 10\n",
    "    data =[]\n",
    "    temperatures=[]\n",
    "\n",
    "    for i in range(1, totalpg + 1):\n",
    "        response = requests.get(url + str(i))\n",
    "        result = response.json()\n",
    "        data.append(result)\n",
    "        for page in data:\n",
    "            for record in page['data']:\n",
    "                if record['doctor']['name'] == doctorName and record['diagnosis']['id'] == diagnosisId:\n",
    "                    if 'vitals' in record and 'bodyTemperature' in record['vitals']:\n",
    "                        temperatures.append(record['vitals']['bodyTemperature'])\n",
    "    return [int(min(temperatures)), int(max(temperatures))]\n",
    "\n",
    "pprint(bodyTemperature(\"Dr Arnold Bullock\", 2))\n"
   ]
  }
 ],
 "metadata": {
  "kernelspec": {
   "display_name": "Python 3",
   "language": "python",
   "name": "python3"
  },
  "language_info": {
   "codemirror_mode": {
    "name": "ipython",
    "version": 3
   },
   "file_extension": ".py",
   "mimetype": "text/x-python",
   "name": "python",
   "nbconvert_exporter": "python",
   "pygments_lexer": "ipython3",
   "version": "3.10.10"
  },
  "orig_nbformat": 4
 },
 "nbformat": 4,
 "nbformat_minor": 2
}
