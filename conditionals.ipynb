{
 "cells": [
  {
   "cell_type": "code",
   "execution_count": 34,
   "metadata": {},
   "outputs": [],
   "source": [
    "def creat_usernames(username):\n",
    "    if len(username) <= 5:\n",
    "        print(\"invalid username. Username must be at last 5 char long\")\n",
    "    elif len(username) > 15:\n",
    "        print(\"invalid username. Username must be at last 15 char long\")\n",
    "    else:\n",
    "        print(\"valide username\")\n",
    "        \n",
    "\n",
    "creat_usernames(\"renne67\")"
   ]
  },
  {
   "cell_type": "code",
   "execution_count": 35,
   "metadata": {},
   "outputs": [
    {
     "name": "stdout",
     "output_type": "stream",
     "text": [
      "<class 'bool'>\n",
      "False\n",
      "True\n",
      "<class 'function'>\n"
     ]
    }
   ],
   "source": [
    "def check_num(num1, num2):\n",
    "    if num1 > num2:\n",
    "        return True\n",
    "    else:\n",
    "         return False\n",
    "\n",
    "result = check_num(5,8) # always save the returns to a valuable so you can reuse it\n",
    "print(type(result))\n",
    "print(result)\n",
    "print(check_num(19,8))\n",
    "print(type(check_num))"
   ]
  },
  {
   "cell_type": "code",
   "execution_count": 36,
   "metadata": {},
   "outputs": [
    {
     "name": "stdout",
     "output_type": "stream",
     "text": [
      "the result is False\n",
      "False\n"
     ]
    }
   ],
   "source": [
    "def true_or_false(result): #the parameter result is coming from the previous results that was stored\n",
    "    if result == True:\n",
    "        print(\"the result is True\")\n",
    "    if result == False:\n",
    "        print(\"the result is False\")\n",
    "    return result #if you dont define a return, it will print none at the terminal\n",
    "final = true_or_false(result)\n",
    "print(final)"
   ]
  },
  {
   "cell_type": "code",
   "execution_count": 29,
   "metadata": {},
   "outputs": [
    {
     "name": "stdout",
     "output_type": "stream",
     "text": [
      "Not there yet, x = 5\n",
      "Not there yet, x = 4\n",
      "Not there yet, x = 3\n",
      "Not there yet, x = 2\n",
      "Not there yet, x = 1\n",
      "this is not part of the loop 0\n"
     ]
    }
   ],
   "source": [
    "\n",
    "def creating_aloop(x):\n",
    "    while x > 0:\n",
    "        print(\"Not there yet, x = \" + str(x))\n",
    "        x= x - 1\n",
    "    print(\"this is not part of the loop \" + str(x))\n",
    "\n",
    "creating_aloop(5)\n"
   ]
  },
  {
   "cell_type": "code",
   "execution_count": 4,
   "metadata": {},
   "outputs": [
    {
     "name": "stdout",
     "output_type": "stream",
     "text": [
      "Attempt 1\n",
      "Attempt 2\n",
      "Attempt 3\n",
      "Attempt 4\n",
      "Attempt 5\n",
      "done\n"
     ]
    }
   ],
   "source": [
    "def attempts(n):\n",
    "    x =1\n",
    "    while x <= n:\n",
    "        print(\"Attempt \" + str(x))\n",
    "        x += 1\n",
    "    print(\"done\")\n",
    "attempts(5)"
   ]
  },
  {
   "cell_type": "code",
   "execution_count": null,
   "metadata": {},
   "outputs": [
    {
     "name": "stdout",
     "output_type": "stream",
     "text": [
      "7.0\n"
     ]
    }
   ],
   "source": [
    "x=28\n",
    "if x != 0:\n",
    "    while x % 2 == 0: #this will do same as down\n",
    "        x = x / 2\n",
    "print(x)"
   ]
  },
  {
   "cell_type": "code",
   "execution_count": 20,
   "metadata": {},
   "outputs": [
    {
     "name": "stdout",
     "output_type": "stream",
     "text": [
      "3.3333333333333335\n"
     ]
    }
   ],
   "source": [
    "y = 30\n",
    "while y != 0 and y % 2 == 0: #this will do same as up\n",
    "    y = y / 3\n",
    "print(y)"
   ]
  },
  {
   "cell_type": "code",
   "execution_count": 33,
   "metadata": {},
   "outputs": [
    {
     "name": "stdout",
     "output_type": "stream",
     "text": [
      "Not there yet, num = 4\n",
      "Not there yet, num = 3\n",
      "Not there yet, num = 1\n",
      "Not there yet, num = 0\n",
      "num = 0\n"
     ]
    }
   ],
   "source": [
    "def greater_than_0(num):\n",
    "\n",
    "    while num > 0:\n",
    "        num = num -1\n",
    "        if num ==2:\n",
    "            continue # using continue vs break\n",
    "            break\n",
    "        print(\"Not there yet, num = \" +str(num))\n",
    "    print(\"num = \" +str(num))\n",
    "\n",
    "greater_than_0(5)"
   ]
  },
  {
   "cell_type": "code",
   "execution_count": 34,
   "metadata": {},
   "outputs": [
    {
     "name": "stdout",
     "output_type": "stream",
     "text": [
      "Not there yet, num = 4\n",
      "Not there yet, num = 3\n",
      "num = 2\n"
     ]
    }
   ],
   "source": [
    "def greater_than_0(num):\n",
    "\n",
    "    while num > 0:\n",
    "        num = num -1\n",
    "        if num ==2:\n",
    "            break # using break vs continue\n",
    "        print(\"Not there yet, num = \" +str(num))\n",
    "    print(\"num = \" +str(num))\n",
    "\n",
    "greater_than_0(5)"
   ]
  },
  {
   "cell_type": "code",
   "execution_count": 38,
   "metadata": {},
   "outputs": [
    {
     "name": "stdout",
     "output_type": "stream",
     "text": [
      "0\n",
      "1\n",
      "2\n",
      "3\n",
      "4\n",
      "<class 'int'>\n"
     ]
    }
   ],
   "source": [
    "for x in range(5):\n",
    "    print(x)\n",
    "print(type(x))"
   ]
  },
  {
   "cell_type": "code",
   "execution_count": 64,
   "metadata": {},
   "outputs": [
    {
     "name": "stdout",
     "output_type": "stream",
     "text": [
      "362880\n"
     ]
    }
   ],
   "source": [
    "product =1\n",
    "for i in range(1,10):\n",
    "    product = product * i\n",
    "print(product)"
   ]
  },
  {
   "cell_type": "code",
   "execution_count": 185,
   "metadata": {},
   "outputs": [
    {
     "name": "stdout",
     "output_type": "stream",
     "text": [
      "this should print increments of 10 x =  0 -17.77777777777778\n",
      "this should print increments of 10 x =  10 -12.222222222222221\n",
      "this should print increments of 10 x =  20 -6.666666666666667\n",
      "this should print increments of 10 x =  30 -1.1111111111111112\n",
      "this should print increments of 10 x =  40 4.444444444444445\n",
      "this should print increments of 10 x =  50 10.0\n",
      "this should print increments of 10 x =  60 15.555555555555555\n",
      "this should print increments of 10 x =  70 21.11111111111111\n",
      "this should print increments of 10 x =  80 26.666666666666668\n",
      "this should print increments of 10 x =  90 32.22222222222222\n",
      "this should print increments of 10 x =  100 37.77777777777778\n"
     ]
    }
   ],
   "source": [
    "def to_celsuis(x):\n",
    "    return (x-32)*5/9\n",
    "for x in range(0,101,10): #this will increment by 10 each time until its %\n",
    "    print(\"this should print increments of 10 x = \" , x , to_celsuis(x))\n"
   ]
  },
  {
   "cell_type": "code",
   "execution_count": 77,
   "metadata": {},
   "outputs": [
    {
     "name": "stdout",
     "output_type": "stream",
     "text": [
      "0\n",
      "6\n",
      "12\n",
      "18\n",
      "24\n",
      "30\n",
      "36\n",
      "42\n",
      "48\n",
      "54\n",
      "60\n",
      "66\n",
      "72\n",
      "78\n",
      "84\n",
      "90\n",
      "96\n"
     ]
    }
   ],
   "source": [
    "for z in range(0,101,6):\n",
    "    print(z)\n",
    "    #this function prints the multiplication of 6 up till 101"
   ]
  },
  {
   "cell_type": "code",
   "execution_count": 80,
   "metadata": {},
   "outputs": [
    {
     "name": "stdout",
     "output_type": "stream",
     "text": [
      "5\n",
      "8\n",
      "11\n",
      "14\n",
      "17\n"
     ]
    }
   ],
   "source": [
    "for s in range(5,20,3):\n",
    "    print(s)"
   ]
  },
  {
   "cell_type": "code",
   "execution_count": 89,
   "metadata": {},
   "outputs": [
    {
     "name": "stdout",
     "output_type": "stream",
     "text": [
      "[0|0] [0|1] [0|2] [0|3] [0|4] [0|5] [0|6] \n",
      "[1|1] [1|2] [1|3] [1|4] [1|5] [1|6] \n",
      "[2|2] [2|3] [2|4] [2|5] [2|6] \n",
      "[3|3] [3|4] [3|5] [3|6] \n",
      "[4|4] [4|5] [4|6] \n",
      "[5|5] [5|6] \n",
      "[6|6] \n"
     ]
    }
   ],
   "source": [
    "for left in range(7):\n",
    "    for right in range(left,7):\n",
    "        print(\"[\"+ str(left) + \"|\" + str(right) + \"]\", end=\" \")\n",
    "    print()"
   ]
  },
  {
   "cell_type": "code",
   "execution_count": 97,
   "metadata": {},
   "outputs": [
    {
     "name": "stdout",
     "output_type": "stream",
     "text": [
      "drangon vs wolve\n",
      "drangon vs pandas\n",
      "drangon vs unicorns\n",
      "wolve vs drangon\n",
      "wolve vs pandas\n",
      "wolve vs unicorns\n",
      "pandas vs drangon\n",
      "pandas vs wolve\n",
      "pandas vs unicorns\n",
      "unicorns vs drangon\n",
      "unicorns vs wolve\n",
      "unicorns vs pandas\n"
     ]
    }
   ],
   "source": [
    "#this iterate through the teams and matches them \n",
    "teams =['drangon', 'wolve', 'pandas', 'unicorns']\n",
    "\n",
    "for home_team in teams:\n",
    "    for away_team in teams:\n",
    "        if home_team != away_team: # is not will work as well as !=\n",
    "        #if home_team is not away_team:\n",
    "\n",
    "            print(home_team + \" vs \" + away_team)"
   ]
  },
  {
   "cell_type": "code",
   "execution_count": 91,
   "metadata": {},
   "outputs": [
    {
     "name": "stdout",
     "output_type": "stream",
     "text": [
      "drangon vs d\n",
      "drangon vs r\n",
      "drangon vs a\n",
      "drangon vs n\n",
      "drangon vs g\n",
      "drangon vs o\n",
      "drangon vs n\n",
      "wolve vs w\n",
      "wolve vs o\n",
      "wolve vs l\n",
      "wolve vs v\n",
      "wolve vs e\n",
      "pandas vs p\n",
      "pandas vs a\n",
      "pandas vs n\n",
      "pandas vs d\n",
      "pandas vs a\n",
      "pandas vs s\n",
      "unicorns vs u\n",
      "unicorns vs n\n",
      "unicorns vs i\n",
      "unicorns vs c\n",
      "unicorns vs o\n",
      "unicorns vs r\n",
      "unicorns vs n\n",
      "unicorns vs s\n"
     ]
    }
   ],
   "source": [
    "teams =['drangon', 'wolve', 'pandas', 'unicorns']\n",
    "\n",
    "for home_team in teams:\n",
    "    for away_team in home_team:\n",
    "        if home_team != away_team:\n",
    "            print(home_team + \" vs \" + away_team)"
   ]
  },
  {
   "cell_type": "code",
   "execution_count": 123,
   "metadata": {},
   "outputs": [
    {
     "name": "stdout",
     "output_type": "stream",
     "text": [
      "['book', 'dog']\n",
      "john\n",
      "['cat', 'hippo']\n",
      "ben\n",
      "irene\n",
      "['book', 'dog']\n",
      "this will print  john\n",
      "this will print  ['john', ['cat', 'hippo'], 'ben', 'irene']\n"
     ]
    }
   ],
   "source": [
    "items = [[\"book\", \"dog\"],\"john\",[\"cat\",\"hippo\"], \"ben\", \"irene\"]\n",
    "for item in items:\n",
    "    print(item)\n",
    "print(items[0])\n",
    "print(\"this will print \" , items[1])\n",
    "print(\"this will print \" , items[1:])\n",
    "\n",
    "\n",
    "    "
   ]
  },
  {
   "cell_type": "code",
   "execution_count": 101,
   "metadata": {},
   "outputs": [
    {
     "name": "stdout",
     "output_type": "stream",
     "text": [
      "2\n",
      "5\n",
      "25\n"
     ]
    },
    {
     "ename": "TypeError",
     "evalue": "'int' object is not iterable",
     "output_type": "error",
     "traceback": [
      "\u001b[1;31m---------------------------------------------------------------------------\u001b[0m",
      "\u001b[1;31mTypeError\u001b[0m                                 Traceback (most recent call last)",
      "Cell \u001b[1;32mIn[101], line 7\u001b[0m\n\u001b[0;32m      4\u001b[0m \u001b[39mfor\u001b[39;00m y \u001b[39min\u001b[39;00m [\u001b[39m25\u001b[39m]:\n\u001b[0;32m      5\u001b[0m     \u001b[39mprint\u001b[39m(y)\n\u001b[1;32m----> 7\u001b[0m \u001b[39mfor\u001b[39;00m z \u001b[39min\u001b[39;00m \u001b[39m25\u001b[39m:\n\u001b[0;32m      8\u001b[0m     \u001b[39mprint\u001b[39m(z)\n",
      "\u001b[1;31mTypeError\u001b[0m: 'int' object is not iterable"
     ]
    }
   ],
   "source": [
    "for x in '25': # will print 2, 5\n",
    "    print(x)\n",
    "\n",
    "for y in [25]: #will print 25\n",
    "    print(y)\n",
    "\n",
    "for z in 25: # cant iterate through an integer so typeErroe\n",
    "    print(z)\n",
    "\n"
   ]
  },
  {
   "cell_type": "code",
   "execution_count": 108,
   "metadata": {},
   "outputs": [
    {
     "name": "stdout",
     "output_type": "stream",
     "text": [
      "Hi  renne\n",
      "Hi  mary\n",
      "Hi  john\n",
      "Hi  abby\n",
      "Hi  g\n",
      "Hi  r\n",
      "Hi  a\n",
      "Hi  c\n",
      "Hi  e\n"
     ]
    }
   ],
   "source": [
    "def greet_friends(friends):\n",
    "    for friend in friends:\n",
    "        print(\"Hi \", friend)\n",
    "\n",
    "greet_friends(['renne', 'mary', 'john', 'abby'])\n",
    "\n",
    "greet_friends('grace')\n"
   ]
  },
  {
   "cell_type": "code",
   "execution_count": 112,
   "metadata": {},
   "outputs": [
    {
     "name": "stdout",
     "output_type": "stream",
     "text": [
      "1 5 6\n",
      "1 5 9\n",
      "3 5 6\n",
      "3 5 9\n",
      "4 5 6\n",
      "4 5 9\n"
     ]
    }
   ],
   "source": [
    "a= [1,3,4]\n",
    "b=[5,]\n",
    "c=[6,9]\n",
    "for i in a:\n",
    "    for j in b:\n",
    "        for d in c:\n",
    "             print(i, j, d)"
   ]
  }
 ],
 "metadata": {
  "kernelspec": {
   "display_name": "Python 3",
   "language": "python",
   "name": "python3"
  },
  "language_info": {
   "codemirror_mode": {
    "name": "ipython",
    "version": 3
   },
   "file_extension": ".py",
   "mimetype": "text/x-python",
   "name": "python",
   "nbconvert_exporter": "python",
   "pygments_lexer": "ipython3",
   "version": "3.10.10"
  },
  "orig_nbformat": 4
 },
 "nbformat": 4,
 "nbformat_minor": 2
}
