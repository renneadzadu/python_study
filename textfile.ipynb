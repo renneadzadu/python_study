{
 "cells": [
  {
   "cell_type": "code",
   "execution_count": null,
   "metadata": {},
   "outputs": [],
   "source": [
    "f = open('my_file.txt')\n",
    "f = open('C:/Python37/my_file.txt') # if you want to access outside  put abosolute path\n",
    "f = open('my file.cvs', 'w') #write in text mode\n",
    "f = open('my img.jgp', 'r+b') # read and write in binary mode"
   ]
  },
  {
   "cell_type": "code",
   "execution_count": null,
   "metadata": {},
   "outputs": [],
   "source": [
    "#encoding files\n",
    "f = open('my_file.txt', mode = 'r', encoding = 'mac_roman') \n",
    "f = open('my_file.csv', mode = 'w', encoding = 'utf-8')\n",
    "f = open('my_file.txt', encoding='utf-8') # most popular way of encoding\n"
   ]
  },
  {
   "cell_type": "code",
   "execution_count": null,
   "metadata": {},
   "outputs": [],
   "source": [
    "f = open('my_file.txt', encoding='utf-8')\n",
    "f.close() # this method helps close files but you will need a try finally block\n"
   ]
  },
  {
   "cell_type": "code",
   "execution_count": 14,
   "metadata": {},
   "outputs": [
    {
     "name": "stdout",
     "output_type": "stream",
     "text": [
      "<_io.TextIOWrapper name='my_file.txt' mode='r' encoding='utf-8'>\n"
     ]
    }
   ],
   "source": [
    "try:\n",
    "    f = open('my_file.txt', encoding='utf-8')\n",
    "finally:\n",
    "    f.close()\n",
    "#The best way to do this is using the with statement. \n",
    "# This ensures that the file is closed when the block \n",
    "# inside with is exited. We don't need\n",
    "#  to explicitly call the close() method. It is done internally\n",
    "\n",
    "with open('my_file.txt', encoding='utf-8') as f:\n",
    "    pass"
   ]
  },
  {
   "cell_type": "code",
   "execution_count": 4,
   "metadata": {},
   "outputs": [],
   "source": [
    "with open('my_file.txt',mode='w', encoding='utf-8') as f:\n",
    "    f.write('The first line\\n')\n",
    "    f.write('And this is the second line\\n')\n",
    "    f.write('This is the current and last linw\\n')"
   ]
  },
  {
   "cell_type": "code",
   "execution_count": 3,
   "metadata": {},
   "outputs": [],
   "source": [
    "with open('my_file.txt',mode='w', encoding='utf-8') as f:\n",
    "    f.write('My name is Renne\\n')\n"
   ]
  },
  {
   "cell_type": "code",
   "execution_count": 8,
   "metadata": {},
   "outputs": [
    {
     "name": "stdout",
     "output_type": "stream",
     "text": [
      "The\n",
      "3\n",
      " first\n",
      " line\n",
      "An\n",
      "18\n",
      "d this is the second line\n",
      "\n",
      "This is the current and last linw\n",
      "\n"
     ]
    }
   ],
   "source": [
    "with open('my_file.txt', mode='r+') as fo:\n",
    "    print(fo.read(3))# prints 'The' in the txt file specifies\n",
    "    print(fo.tell()) \n",
    "    print(fo.read(6)) # reads white lines: output starts after 'the'\n",
    "    print(fo.read(8))\n",
    "    print(fo.tell())\n",
    "    print(fo.readline())\n",
    "    print(fo.readline())"
   ]
  },
  {
   "cell_type": "code",
   "execution_count": 13,
   "metadata": {},
   "outputs": [
    {
     "name": "stdout",
     "output_type": "stream",
     "text": [
      "The first line\n",
      "\n",
      "And this is the second line\n",
      "This is the current and last linw\n",
      "\n"
     ]
    }
   ],
   "source": [
    "with open('my_file.txt', mode='r+') as fo:\n",
    "   # print(fo.read())\n",
    "    print(fo.readline())\n",
    "    print(fo.read())"
   ]
  },
  {
   "cell_type": "code",
   "execution_count": 15,
   "metadata": {},
   "outputs": [
    {
     "name": "stdout",
     "output_type": "stream",
     "text": [
      "The\n",
      "3\n",
      "45\n",
      "45\n",
      "This is the current and last linw\n",
      "\n"
     ]
    }
   ],
   "source": [
    "with open('my_file.txt', mode='r+') as fo:\n",
    "    print(fo.read(3))\n",
    "    print(fo.tell())\n",
    "    print(fo.seek(45))\n",
    "    print(fo.tell())  \n",
    "    print(fo.read())\n"
   ]
  },
  {
   "cell_type": "code",
   "execution_count": 18,
   "metadata": {},
   "outputs": [
    {
     "name": "stdout",
     "output_type": "stream",
     "text": [
      "['The first line\\n', 'And this is the second line\\n', 'This is the current and last linw\\n']\n"
     ]
    }
   ],
   "source": [
    "with open('my_file.txt', mode='r+') as fo:\n",
    "    print(fo.readlines()) # readlines is different readline"
   ]
  },
  {
   "cell_type": "code",
   "execution_count": 9,
   "metadata": {},
   "outputs": [],
   "source": [
    "with open('course.csv', mode='w') as csv_file:\n",
    "    csv_file.write('Course I , Course Name, Intructor\\n')\n",
    "    csv_file.write('CSIPL01, Introduction to Java, Marcial Cordon\\n')\n",
    "    csv_file.write('CSIP0O2, Introduction to Python, Young Wook Baek')\n"
   ]
  },
  {
   "cell_type": "code",
   "execution_count": 37,
   "metadata": {},
   "outputs": [],
   "source": [
    "with open('course.txt', mode='w') as csv_file:\n",
    "    csv_file.write('Course I , Course Name, Intructor\\n')\n",
    "    csv_file.write('CSIPL01, Introduction to Java, Marcial Cordon\\n')\n",
    "    csv_file.write('CSIP0O2, Introduction to Python, Young Wook Baek')\n"
   ]
  },
  {
   "cell_type": "code",
   "execution_count": 36,
   "metadata": {},
   "outputs": [
    {
     "name": "stdout",
     "output_type": "stream",
     "text": [
      "Course I  \t  Course Name (  Intructor )\n",
      "CSIPL01 \t  Introduction to Java (  Marcial Cordon )\n",
      "CSIP0O2 \t  Introduction to Python (  Young Wook Baek )\n"
     ]
    }
   ],
   "source": [
    "with open('course.txt', mode='r+') as csv_file:\n",
    "    for line in csv_file.read().split('\\n'):\n",
    "        c_id, c_name, instructor = line.split(',')\n",
    "        print(c_id, '\\t', c_name,'(', instructor,')')"
   ]
  }
 ],
 "metadata": {
  "kernelspec": {
   "display_name": "Python 3",
   "language": "python",
   "name": "python3"
  },
  "language_info": {
   "codemirror_mode": {
    "name": "ipython",
    "version": 3
   },
   "file_extension": ".py",
   "mimetype": "text/x-python",
   "name": "python",
   "nbconvert_exporter": "python",
   "pygments_lexer": "ipython3",
   "version": "3.10.10"
  },
  "orig_nbformat": 4
 },
 "nbformat": 4,
 "nbformat_minor": 2
}
