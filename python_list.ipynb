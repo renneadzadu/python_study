{
 "cells": [
  {
   "cell_type": "code",
   "execution_count": 1,
   "metadata": {},
   "outputs": [
    {
     "name": "stdout",
     "output_type": "stream",
     "text": [
      "[3]\n",
      "[3, 5]\n",
      "[3, 5, 7]\n",
      "[3, 5, 7, 9]\n",
      "[3, 5, 7, 9, 11]\n",
      "[3, 5, 7, 9, 11, 13]\n"
     ]
    }
   ],
   "source": [
    "num = []\n",
    "for i in range(3,15,2):\n",
    "    num.append(i)\n",
    "    print(num)\n",
    "    "
   ]
  },
  {
   "cell_type": "code",
   "execution_count": 2,
   "metadata": {},
   "outputs": [
    {
     "name": "stdout",
     "output_type": "stream",
     "text": [
      "[3, 5, 7, 9, 11, 13]\n"
     ]
    }
   ],
   "source": [
    "num = list()\n",
    "for i in range(3,15,2):\n",
    "    num.append(i)\n",
    "print(num)"
   ]
  },
  {
   "cell_type": "code",
   "execution_count": 3,
   "metadata": {},
   "outputs": [
    {
     "name": "stdout",
     "output_type": "stream",
     "text": [
      "renne a 5\n",
      "renne a 5\n",
      "2.5 a 5\n",
      "<class 'function'>\n"
     ]
    }
   ],
   "source": [
    "def fullname(firstname, middlename, lastname):\n",
    "    return firstname,middlename,lastname\n",
    "print(\"renne\", \"a\", 5)\n",
    "print(\"renne\", \"a\", \"5\")\n",
    "print(2.5, \"a\", 5)\n",
    "\n",
    "\n",
    "print(type(fullname))"
   ]
  },
  {
   "cell_type": "code",
   "execution_count": 4,
   "metadata": {},
   "outputs": [
    {
     "name": "stdout",
     "output_type": "stream",
     "text": [
      "('firstname', 'middlename', 'lastname')\n",
      "<class 'tuple'>\n"
     ]
    }
   ],
   "source": [
    "name = (\"firstname\", \"middlename\", \"lastname\")\n",
    "print((((name))))\n",
    "print(type(name))\n"
   ]
  },
  {
   "cell_type": "code",
   "execution_count": 5,
   "metadata": {},
   "outputs": [
    {
     "name": "stdout",
     "output_type": "stream",
     "text": [
      "169.67\n",
      "1333.33\n",
      "<class 'function'>\n"
     ]
    }
   ],
   "source": [
    "def file_size(file_info):\n",
    "    names, types, size = file_info\n",
    "    return  (\"{:.2f}\".format(size/3))\n",
    "\n",
    "print(file_size((\"note\", \"txt\",509)))\n",
    "print(file_size((\"program\", \"zize\",4000)))\n",
    "\n",
    "print(type(file_size))\n"
   ]
  },
  {
   "cell_type": "code",
   "execution_count": 6,
   "metadata": {},
   "outputs": [
    {
     "name": "stdout",
     "output_type": "stream",
     "text": [
      "this will print the lists as a tupuls:  dog\n",
      "0\n",
      "this will print the lists as a tupuls:  cat\n",
      "1\n",
      "this will print the lists as a tupuls:  dophin\n",
      "2\n",
      "this will print the lists as a tupuls:  elephant\n",
      "3\n",
      "3\n",
      "20\n"
     ]
    }
   ],
   "source": [
    "animals= [\"dog\", \"cat\", \"dophin\",\"elephant\"]\n",
    "for x, ani in enumerate(animals): # this enumerate method will print the tupules in the list\n",
    "    print(\"this will print the lists as a tupuls: \", ani)\n",
    "    print(x) # this will print index 0,1,2,3 in between the print method on top\n",
    "print(x) #this will 3 as the len of the animals index startinf from 0\n",
    "\n",
    "chars =0\n",
    "for animal in animals:\n",
    "     chars += len(animal) \n",
    "print(chars)"
   ]
  },
  {
   "cell_type": "code",
   "execution_count": 7,
   "metadata": {},
   "outputs": [
    {
     "name": "stdout",
     "output_type": "stream",
     "text": [
      "[\"('adzadur@email.com', 'alice diago')<0>\", \"('shat@eample.com', 'shay babda')<1>\"]\n"
     ]
    }
   ],
   "source": [
    "def full_emails(people):\n",
    "    result = []\n",
    "    for email, name in enumerate(people):\n",
    "        result.append(f\"{name}<{email}>\")\n",
    "    return result\n",
    "print(full_emails([(\"adzadur@email.com\", \"alice diago\"), \n",
    "(\"shat@eample.com\", \"shay babda\")]))"
   ]
  },
  {
   "cell_type": "code",
   "execution_count": 8,
   "metadata": {},
   "outputs": [
    {
     "name": "stdout",
     "output_type": "stream",
     "text": [
      "['alice diago<adzadur@email.com>', 'shay babda<shat@eample.com>']\n"
     ]
    }
   ],
   "source": [
    "def full_emails(people):\n",
    "    result = []\n",
    "    for email, name in people:\n",
    "        result.append(f\"{name}<{email}>\")\n",
    "    return result\n",
    "print(full_emails([(\"adzadur@email.com\", \"alice diago\"), \n",
    "(\"shat@eample.com\", \"shay babda\")]))"
   ]
  },
  {
   "cell_type": "code",
   "execution_count": 37,
   "metadata": {},
   "outputs": [
    {
     "name": "stdout",
     "output_type": "stream",
     "text": [
      "['a', 'c', 'e', 'g']\n",
      "['back', 'cat', 'egg', 'goat']\n"
     ]
    }
   ],
   "source": [
    "def skip_elements(elements):\n",
    "    new_list = []\n",
    "    for i, element in enumerate(elements):\n",
    "        if i %2==0:\n",
    "            new_list.append(element)\n",
    "    return new_list\n",
    "print(skip_elements([\"a\",\"b\",\"c\",\"d\",\"e\",\"f\",\"g\"]))\n",
    "print(skip_elements([\"back\",\"dog\",\"cat\",\"dig\",\"egg\",\"fish\",\"goat\"]))"
   ]
  },
  {
   "cell_type": "code",
   "execution_count": 38,
   "metadata": {},
   "outputs": [
    {
     "name": "stdout",
     "output_type": "stream",
     "text": [
      "['a', 'c', 'e', 'g']\n",
      "['back', 'cat', 'egg', 'goat']\n"
     ]
    }
   ],
   "source": [
    "def skip_elements(elements):\n",
    "    new_list = elements[::2]\n",
    "    \n",
    "    return new_list\n",
    "print(skip_elements([\"a\",\"b\",\"c\",\"d\",\"e\",\"f\",\"g\"]))\n",
    "print(skip_elements([\"back\",\"dog\",\"cat\",\"dig\",\"egg\",\"fish\",\"goat\"]))"
   ]
  },
  {
   "cell_type": "code",
   "execution_count": 42,
   "metadata": {},
   "outputs": [
    {
     "name": "stdout",
     "output_type": "stream",
     "text": [
      "['a', 'c', 'e', 'g']\n",
      "['back', 'cat', 'egg', 'goat']\n"
     ]
    }
   ],
   "source": [
    "def skip_elements(elements):\n",
    "    new_list = elements[::2]\n",
    "    \n",
    "    return new_list\n",
    "print(skip_elements([\"a\",\"b\",\"c\",\"d\",\"e\",\"f\",\"g\"]))\n",
    "print(skip_elements([\"back\",\"dog\",\"cat\",\"dig\",\"egg\",\"fish\",\"goat\"]))"
   ]
  },
  {
   "cell_type": "code",
   "execution_count": 75,
   "metadata": {},
   "outputs": [
    {
     "name": "stdout",
     "output_type": "stream",
     "text": [
      "[('python', 'perl', 'ruby', 'go', 'java', 'c', 'c++')]\n",
      "[6, 4, 4, 2, 4, 1, 3]\n",
      "['python', 'python', 'python', 'python', 'python', 'python', 'perl', 'perl', 'perl', 'perl', 'ruby', 'ruby', 'ruby', 'ruby', 'go', 'go', 'java', 'java', 'java', 'java', 'c', 'c++', 'c++', 'c++']\n",
      "[6, 6, 6, 6, 6, 6, 4, 4, 4, 4, 4, 4, 4, 4, 2, 2, 4, 4, 4, 4, 1, 3, 3, 3]\n"
     ]
    }
   ],
   "source": [
    "languages = [\"python\",\"perl\",\"ruby\",\"go\", \"java\",\"c\",\"c++\"]\n",
    "print(language)\n",
    "\n",
    "\n",
    "lengths = [len(language) for language in languages]\n",
    "print(lengths)\n",
    "\n",
    "lengths = [language for language in languages for l in language]\n",
    "print(lengths)\n",
    "\n",
    "lengths = [len(language) for language in languages for l in language]\n",
    "print(lengths)"
   ]
  },
  {
   "cell_type": "code",
   "execution_count": 63,
   "metadata": {},
   "outputs": [
    {
     "name": "stdout",
     "output_type": "stream",
     "text": [
      "[('python', 'perl', 'ruby', 'go', 'java', 'c', 'c++')]\n",
      "[1]\n"
     ]
    }
   ],
   "source": [
    "languages = []\n",
    "languages.append((\"python\",\"perl\",\"ruby\",\"go\", \"java\",\"c\",\"c++\"))\n",
    "print(language)\n",
    "\n",
    "lengths = [len(languages) for language in languages]\n",
    "print(lengths)\n",
    "\n"
   ]
  },
  {
   "cell_type": "code",
   "execution_count": 62,
   "metadata": {},
   "outputs": [
    {
     "name": "stdout",
     "output_type": "stream",
     "text": [
      "[0, 3, 6, 9, 12, 15, 18, 21, 24, 27, 30, 33, 36, 39, 42, 45, 48, 51, 54, 57, 60, 63, 66, 69, 72, 75, 78, 81, 84, 87, 90, 93, 96]\n"
     ]
    }
   ],
   "source": [
    "z = [ x  for x in range(0,99) if x % 3 ==0 ]\n",
    "print(z)\n"
   ]
  },
  {
   "cell_type": "code",
   "execution_count": 81,
   "metadata": {},
   "outputs": [
    {
     "name": "stdout",
     "output_type": "stream",
     "text": [
      "[1, 3, 5]\n",
      "[1, 3, 5, 7, 9]\n",
      "[1, 3, 5, 7, 9, 11]\n",
      "[1]\n",
      "[]\n"
     ]
    }
   ],
   "source": [
    "def odd_num(n):\n",
    "    return[x for x in range(1, (n+1)) if x % 2 == 1]\n",
    "    #range(1, (n+1)) generates a range \n",
    "    # of numbers from 1 to n, inclusive. the + 1 at \n",
    "    # the end makes the code includsive. without it, \n",
    "    # its not going to print the last index output\n",
    "print(odd_num(5))\n",
    "print(odd_num(10))\n",
    "print(odd_num(11))\n",
    "print(odd_num(1))\n",
    "print(odd_num(-1))"
   ]
  },
  {
   "cell_type": "code",
   "execution_count": 82,
   "metadata": {},
   "outputs": [
    {
     "name": "stdout",
     "output_type": "stream",
     "text": [
      "[1, 3, 5]\n",
      "[1, 3, 5, 7, 9]\n",
      "[1, 3, 5, 7, 9, 11]\n",
      "[1]\n",
      "[]\n"
     ]
    }
   ],
   "source": [
    "def odd_num(n):\n",
    "    return[x for x in range(1, (n+1),2) ]\n",
    "   \n",
    "print(odd_num(5))\n",
    "print(odd_num(10))\n",
    "print(odd_num(11))\n",
    "print(odd_num(1))\n",
    "print(odd_num(-1))"
   ]
  },
  {
   "cell_type": "code",
   "execution_count": null,
   "metadata": {},
   "outputs": [],
   "source": []
  }
 ],
 "metadata": {
  "language_info": {
   "name": "python"
  },
  "orig_nbformat": 4
 },
 "nbformat": 4,
 "nbformat_minor": 2
}
