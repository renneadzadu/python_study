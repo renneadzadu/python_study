{
  "nbformat": 4,
  "nbformat_minor": 0,
  "metadata": {
    "colab": {
      "provenance": []
    },
    "kernelspec": {
      "name": "python3",
      "display_name": "Python 3"
    },
    "language_info": {
      "name": "python"
    }
  },
  "cells": [
    {
      "cell_type": "markdown",
      "source": [
        "**Pandas DataFrames Excerices**\n",
        "\n",
        "What is a DataFrame in pandas?\n",
        "\n",
        "DataFrame. DataFrame is a 2-dimensional labeled data structure with columns of potentially different types. You can think of it like a spreadsheet or SQL table, or a dict of Series objects. It is generally the most commonly used pandas object."
      ],
      "metadata": {
        "id": "HCN9PLPtw34c"
      }
    },
    {
      "cell_type": "markdown",
      "source": [
        "Please refer to the Pandas Series Documentation for a full list of methods and how to implement them.\n",
        "\n",
        "To complete the problems below we first need to import the Pandas and Numpy libraries. If you haven't already installed them, use pip or conda to install them globally or in your virtual environment.\n",
        "\n",
        "The common alias for pandas is pd.\n",
        "The common alias for numpy is np."
      ],
      "metadata": {
        "id": "ck_8IHBIxNxG"
      }
    },
    {
      "cell_type": "code",
      "source": [
        "#pip install pandas\n",
        "#pip install numpy \n",
        "\n",
        "import pandas as pd\n",
        "import numpy as np"
      ],
      "metadata": {
        "id": "FwHFLS5KxQIq"
      },
      "execution_count": 1,
      "outputs": []
    },
    {
      "cell_type": "markdown",
      "source": [
        "DataFrame() method is used to create a dataframe in Pandas. The syntax of creating dataframe is:\n",
        "\n",
        "pd.DataFrame(data, index, columns)\n",
        "\n",
        "The index and columns parameters are optional.\n",
        "\n",
        "Check the documentation for more information on each of these paramaters"
      ],
      "metadata": {
        "id": "NgElrmrR5X_w"
      }
    },
    {
      "cell_type": "markdown",
      "source": [
        "**Problem 1**\n",
        "\n",
        "Using the list the below create a Pandas dataframe"
      ],
      "metadata": {
        "id": "yjxZfXd-6Rbv"
      }
    },
    {
      "cell_type": "code",
      "source": [
        "list1= [1, 2, 3, 4, 5, 6, 7, 8]\n",
        "\n",
        "df = pd.DataFrame(list1)\n",
        "print(df)"
      ],
      "metadata": {
        "id": "26PAXK-G6QU8",
        "outputId": "7b5de548-cd03-45ae-eec8-218f65b2083a",
        "colab": {
          "base_uri": "https://localhost:8080/"
        }
      },
      "execution_count": 4,
      "outputs": [
        {
          "output_type": "stream",
          "name": "stdout",
          "text": [
            "   0\n",
            "0  1\n",
            "1  2\n",
            "2  3\n",
            "3  4\n",
            "4  5\n",
            "5  6\n",
            "6  7\n",
            "7  8\n"
          ]
        }
      ]
    },
    {
      "cell_type": "markdown",
      "source": [
        "**Problem 2**\n",
        "\n",
        "Use the same list and create a new Pandas dataframe, except this time explicitly set the column name to \"Numbers\""
      ],
      "metadata": {
        "id": "V3QBWSyJ6tNi"
      }
    },
    {
      "cell_type": "code",
      "source": [
        "df = pd.DataFrame(list1, columns=['Numbers'])\n",
        "print(df)"
      ],
      "metadata": {
        "id": "I2uRw15j6_WK",
        "outputId": "e20e8b2f-f3a9-401f-8df7-9616dfd2973f",
        "colab": {
          "base_uri": "https://localhost:8080/"
        }
      },
      "execution_count": 6,
      "outputs": [
        {
          "output_type": "stream",
          "name": "stdout",
          "text": [
            "   Numbers\n",
            "0        1\n",
            "1        2\n",
            "2        3\n",
            "3        4\n",
            "4        5\n",
            "5        6\n",
            "6        7\n",
            "7        8\n"
          ]
        }
      ]
    },
    {
      "cell_type": "markdown",
      "source": [
        "**Problem 3**\n",
        "\n",
        "Use the list below to create a Pandas dataframe.\n",
        "What differences do you notice between this one, and the dataframes above?"
      ],
      "metadata": {
        "id": "RNQXDEmR7DzT"
      }
    },
    {
      "cell_type": "code",
      "source": [
        "list2= [['hamburger', 1], [\"hotdog\", 2], [\"chicken sandwich\", 3]]\n",
        "\n",
        "df=pd.DataFrame(list2)\n",
        "print(df)"
      ],
      "metadata": {
        "id": "d_7R2qoF7NJV",
        "outputId": "5528f1a5-f61a-4c9b-8ce6-0b57965152b5",
        "colab": {
          "base_uri": "https://localhost:8080/"
        }
      },
      "execution_count": 8,
      "outputs": [
        {
          "output_type": "stream",
          "name": "stdout",
          "text": [
            "                  0  1\n",
            "0         hamburger  1\n",
            "1            hotdog  2\n",
            "2  chicken sandwich  3\n"
          ]
        }
      ]
    },
    {
      "cell_type": "markdown",
      "source": [
        "**Problem 4**\n",
        "\n",
        "Use the dictionary below to create a Pandas dataframe"
      ],
      "metadata": {
        "id": "3xkiTmLj72JO"
      }
    },
    {
      "cell_type": "code",
      "source": [
        "dict1 = {'Name': ['Tom', 'nick', 'krish', 'jack'],\n",
        "        'Age': [20, 21, 19, 18]}\n",
        "\n",
        "df = pd.DataFrame(dict1)\n",
        "print(df)"
      ],
      "metadata": {
        "id": "zWTvYtUZ_Pdi",
        "outputId": "5d95bd4f-d25c-48ea-e101-eae3f7b1a856",
        "colab": {
          "base_uri": "https://localhost:8080/"
        }
      },
      "execution_count": 10,
      "outputs": [
        {
          "output_type": "stream",
          "name": "stdout",
          "text": [
            "    Name  Age\n",
            "0    Tom   20\n",
            "1   nick   21\n",
            "2  krish   19\n",
            "3   jack   18\n"
          ]
        }
      ]
    },
    {
      "cell_type": "markdown",
      "source": [
        "**Problem 5**\n",
        "\n",
        "Use the same dictionary as above to create a new dataframe, but this time explicitly set the index with the following values: 'rank1', 'rank2', 'rank3','rank4'"
      ],
      "metadata": {
        "id": "kZvU75-K-6e4"
      }
    },
    {
      "cell_type": "code",
      "source": [
        "df = pd.DataFrame(dict1, index=['rank1', 'rank2', 'rank3','rank4'])\n",
        "print(df)\n"
      ],
      "metadata": {
        "id": "6nSUTs-t_Qrg",
        "outputId": "95fd87ed-b0ca-4a12-d315-4dfdfc44c0e7",
        "colab": {
          "base_uri": "https://localhost:8080/"
        }
      },
      "execution_count": 11,
      "outputs": [
        {
          "output_type": "stream",
          "name": "stdout",
          "text": [
            "        Name  Age\n",
            "rank1    Tom   20\n",
            "rank2   nick   21\n",
            "rank3  krish   19\n",
            "rank4   jack   18\n"
          ]
        }
      ]
    },
    {
      "cell_type": "markdown",
      "source": [
        "**Problem 6 **\n",
        "\n",
        "Use what you know about series and convert a numpy array to a dataframe of given shape.\n",
        "\n",
        "Reshape the series ser into a dataframe with 7 rows and 5 columns"
      ],
      "metadata": {
        "id": "uIonz_bJ_c9B"
      }
    },
    {
      "cell_type": "code",
      "source": [
        "ser = pd.Series(np.random.randint(1, 10, 35))\n",
        "df = pd.DataFrame(ser.values.reshape(5,7))\n",
        "print(df)"
      ],
      "metadata": {
        "id": "k9QT9Z2__lTX",
        "outputId": "3d9ec0a8-a381-465c-af45-b0b3391381d7",
        "colab": {
          "base_uri": "https://localhost:8080/"
        }
      },
      "execution_count": 15,
      "outputs": [
        {
          "output_type": "stream",
          "name": "stdout",
          "text": [
            "   0  1  2  3  4  5  6\n",
            "0  3  2  6  2  3  6  6\n",
            "1  8  6  5  3  3  5  4\n",
            "2  9  7  8  3  3  1  8\n",
            "3  7  7  5  5  6  4  4\n",
            "4  6  7  6  8  6  7  5\n"
          ]
        }
      ]
    },
    {
      "cell_type": "markdown",
      "source": [
        "**Problem 7**\n",
        "\n",
        "Use the .read_csv() method to create a pandas dataframe from this link: 'https://raw.githubusercontent.com/selva86/datasets/master/Cars93_miss.csv'\n",
        "\n",
        "Use the following attributes and methods on the dataframe to explore the dataset.\n",
        "\n",
        "\n",
        "*   .shape\n",
        "*   .dtypes\n",
        "*   .get_dtype_counts()\n",
        "*   .dtypes.value_counts()\n",
        "*   .describe()\n",
        "*   .values\n",
        "*   .values.tolist()\n",
        "*   .head()\n",
        "\n",
        "\n",
        "Review the documentation to see exactly what each method returns\n",
        "\n",
        "\n",
        "\n"
      ],
      "metadata": {
        "id": "fbHI9fGEA9DQ"
      }
    },
    {
      "cell_type": "code",
      "source": [
        "df7 = pd.read_csv('https://raw.githubusercontent.com/selva86/datasets/master/Cars93_miss.csv') \n",
        "print(df7)\n",
        "df7.shape\n",
        "df7.dtypes\n",
        "df7.dtypes.value_counts()\n",
        "df7.describe()\n",
        "df7.values\n",
        "df7.values.tolist()\n",
        "df7.head()"
      ],
      "metadata": {
        "id": "jQ8uie_OCD_n",
        "outputId": "6ab0c08c-9e37-4772-832d-1f7a6c9f4bea",
        "colab": {
          "base_uri": "https://localhost:8080/",
          "height": 1000
        }
      },
      "execution_count": 18,
      "outputs": [
        {
          "output_type": "stream",
          "name": "stdout",
          "text": [
            "   Manufacturer    Model     Type  Min.Price  Price  Max.Price  MPG.city  \\\n",
            "0         Acura  Integra    Small       12.9   15.9       18.8      25.0   \n",
            "1           NaN   Legend  Midsize       29.2   33.9       38.7      18.0   \n",
            "2          Audi       90  Compact       25.9   29.1       32.3      20.0   \n",
            "3          Audi      100  Midsize        NaN   37.7       44.6      19.0   \n",
            "4           BMW     535i  Midsize        NaN   30.0        NaN      22.0   \n",
            "..          ...      ...      ...        ...    ...        ...       ...   \n",
            "88   Volkswagen  Eurovan      Van       16.6   19.7       22.7      17.0   \n",
            "89   Volkswagen   Passat  Compact       17.6   20.0       22.4      21.0   \n",
            "90   Volkswagen  Corrado   Sporty       22.9   23.3       23.7      18.0   \n",
            "91        Volvo      240  Compact       21.8   22.7       23.5      21.0   \n",
            "92          NaN      850  Midsize       24.8   26.7       28.5      20.0   \n",
            "\n",
            "    MPG.highway             AirBags DriveTrain  ... Passengers  Length  \\\n",
            "0          31.0                None      Front  ...        5.0   177.0   \n",
            "1          25.0  Driver & Passenger      Front  ...        5.0   195.0   \n",
            "2          26.0         Driver only      Front  ...        5.0   180.0   \n",
            "3          26.0  Driver & Passenger        NaN  ...        6.0   193.0   \n",
            "4          30.0                 NaN       Rear  ...        4.0   186.0   \n",
            "..          ...                 ...        ...  ...        ...     ...   \n",
            "88         21.0                None      Front  ...        7.0   187.0   \n",
            "89         30.0                None      Front  ...        5.0   180.0   \n",
            "90         25.0                None      Front  ...        4.0   159.0   \n",
            "91         28.0         Driver only       Rear  ...        5.0   190.0   \n",
            "92         28.0  Driver & Passenger      Front  ...        5.0   184.0   \n",
            "\n",
            "    Wheelbase  Width  Turn.circle Rear.seat.room  Luggage.room  Weight  \\\n",
            "0       102.0   68.0         37.0           26.5           NaN  2705.0   \n",
            "1       115.0   71.0         38.0           30.0          15.0  3560.0   \n",
            "2       102.0   67.0         37.0           28.0          14.0  3375.0   \n",
            "3       106.0    NaN         37.0           31.0          17.0  3405.0   \n",
            "4       109.0   69.0         39.0           27.0          13.0  3640.0   \n",
            "..        ...    ...          ...            ...           ...     ...   \n",
            "88      115.0   72.0         38.0           34.0           NaN  3960.0   \n",
            "89      103.0   67.0         35.0           31.5          14.0  2985.0   \n",
            "90       97.0   66.0         36.0           26.0          15.0  2810.0   \n",
            "91      104.0   67.0         37.0           29.5          14.0  2985.0   \n",
            "92      105.0   69.0         38.0           30.0          15.0  3245.0   \n",
            "\n",
            "     Origin                Make  \n",
            "0   non-USA       Acura Integra  \n",
            "1   non-USA        Acura Legend  \n",
            "2   non-USA             Audi 90  \n",
            "3   non-USA            Audi 100  \n",
            "4   non-USA            BMW 535i  \n",
            "..      ...                 ...  \n",
            "88      NaN  Volkswagen Eurovan  \n",
            "89  non-USA   Volkswagen Passat  \n",
            "90  non-USA  Volkswagen Corrado  \n",
            "91  non-USA           Volvo 240  \n",
            "92  non-USA           Volvo 850  \n",
            "\n",
            "[93 rows x 27 columns]\n"
          ]
        },
        {
          "output_type": "execute_result",
          "data": {
            "text/plain": [
              "  Manufacturer    Model     Type  Min.Price  Price  Max.Price  MPG.city  \\\n",
              "0        Acura  Integra    Small       12.9   15.9       18.8      25.0   \n",
              "1          NaN   Legend  Midsize       29.2   33.9       38.7      18.0   \n",
              "2         Audi       90  Compact       25.9   29.1       32.3      20.0   \n",
              "3         Audi      100  Midsize        NaN   37.7       44.6      19.0   \n",
              "4          BMW     535i  Midsize        NaN   30.0        NaN      22.0   \n",
              "\n",
              "   MPG.highway             AirBags DriveTrain  ... Passengers  Length  \\\n",
              "0         31.0                None      Front  ...        5.0   177.0   \n",
              "1         25.0  Driver & Passenger      Front  ...        5.0   195.0   \n",
              "2         26.0         Driver only      Front  ...        5.0   180.0   \n",
              "3         26.0  Driver & Passenger        NaN  ...        6.0   193.0   \n",
              "4         30.0                 NaN       Rear  ...        4.0   186.0   \n",
              "\n",
              "   Wheelbase  Width  Turn.circle Rear.seat.room  Luggage.room  Weight  \\\n",
              "0      102.0   68.0         37.0           26.5           NaN  2705.0   \n",
              "1      115.0   71.0         38.0           30.0          15.0  3560.0   \n",
              "2      102.0   67.0         37.0           28.0          14.0  3375.0   \n",
              "3      106.0    NaN         37.0           31.0          17.0  3405.0   \n",
              "4      109.0   69.0         39.0           27.0          13.0  3640.0   \n",
              "\n",
              "    Origin           Make  \n",
              "0  non-USA  Acura Integra  \n",
              "1  non-USA   Acura Legend  \n",
              "2  non-USA        Audi 90  \n",
              "3  non-USA       Audi 100  \n",
              "4  non-USA       BMW 535i  \n",
              "\n",
              "[5 rows x 27 columns]"
            ],
            "text/html": [
              "\n",
              "  <div id=\"df-b463b4d7-0e02-4e62-851c-d4d4c9416f29\">\n",
              "    <div class=\"colab-df-container\">\n",
              "      <div>\n",
              "<style scoped>\n",
              "    .dataframe tbody tr th:only-of-type {\n",
              "        vertical-align: middle;\n",
              "    }\n",
              "\n",
              "    .dataframe tbody tr th {\n",
              "        vertical-align: top;\n",
              "    }\n",
              "\n",
              "    .dataframe thead th {\n",
              "        text-align: right;\n",
              "    }\n",
              "</style>\n",
              "<table border=\"1\" class=\"dataframe\">\n",
              "  <thead>\n",
              "    <tr style=\"text-align: right;\">\n",
              "      <th></th>\n",
              "      <th>Manufacturer</th>\n",
              "      <th>Model</th>\n",
              "      <th>Type</th>\n",
              "      <th>Min.Price</th>\n",
              "      <th>Price</th>\n",
              "      <th>Max.Price</th>\n",
              "      <th>MPG.city</th>\n",
              "      <th>MPG.highway</th>\n",
              "      <th>AirBags</th>\n",
              "      <th>DriveTrain</th>\n",
              "      <th>...</th>\n",
              "      <th>Passengers</th>\n",
              "      <th>Length</th>\n",
              "      <th>Wheelbase</th>\n",
              "      <th>Width</th>\n",
              "      <th>Turn.circle</th>\n",
              "      <th>Rear.seat.room</th>\n",
              "      <th>Luggage.room</th>\n",
              "      <th>Weight</th>\n",
              "      <th>Origin</th>\n",
              "      <th>Make</th>\n",
              "    </tr>\n",
              "  </thead>\n",
              "  <tbody>\n",
              "    <tr>\n",
              "      <th>0</th>\n",
              "      <td>Acura</td>\n",
              "      <td>Integra</td>\n",
              "      <td>Small</td>\n",
              "      <td>12.9</td>\n",
              "      <td>15.9</td>\n",
              "      <td>18.8</td>\n",
              "      <td>25.0</td>\n",
              "      <td>31.0</td>\n",
              "      <td>None</td>\n",
              "      <td>Front</td>\n",
              "      <td>...</td>\n",
              "      <td>5.0</td>\n",
              "      <td>177.0</td>\n",
              "      <td>102.0</td>\n",
              "      <td>68.0</td>\n",
              "      <td>37.0</td>\n",
              "      <td>26.5</td>\n",
              "      <td>NaN</td>\n",
              "      <td>2705.0</td>\n",
              "      <td>non-USA</td>\n",
              "      <td>Acura Integra</td>\n",
              "    </tr>\n",
              "    <tr>\n",
              "      <th>1</th>\n",
              "      <td>NaN</td>\n",
              "      <td>Legend</td>\n",
              "      <td>Midsize</td>\n",
              "      <td>29.2</td>\n",
              "      <td>33.9</td>\n",
              "      <td>38.7</td>\n",
              "      <td>18.0</td>\n",
              "      <td>25.0</td>\n",
              "      <td>Driver &amp; Passenger</td>\n",
              "      <td>Front</td>\n",
              "      <td>...</td>\n",
              "      <td>5.0</td>\n",
              "      <td>195.0</td>\n",
              "      <td>115.0</td>\n",
              "      <td>71.0</td>\n",
              "      <td>38.0</td>\n",
              "      <td>30.0</td>\n",
              "      <td>15.0</td>\n",
              "      <td>3560.0</td>\n",
              "      <td>non-USA</td>\n",
              "      <td>Acura Legend</td>\n",
              "    </tr>\n",
              "    <tr>\n",
              "      <th>2</th>\n",
              "      <td>Audi</td>\n",
              "      <td>90</td>\n",
              "      <td>Compact</td>\n",
              "      <td>25.9</td>\n",
              "      <td>29.1</td>\n",
              "      <td>32.3</td>\n",
              "      <td>20.0</td>\n",
              "      <td>26.0</td>\n",
              "      <td>Driver only</td>\n",
              "      <td>Front</td>\n",
              "      <td>...</td>\n",
              "      <td>5.0</td>\n",
              "      <td>180.0</td>\n",
              "      <td>102.0</td>\n",
              "      <td>67.0</td>\n",
              "      <td>37.0</td>\n",
              "      <td>28.0</td>\n",
              "      <td>14.0</td>\n",
              "      <td>3375.0</td>\n",
              "      <td>non-USA</td>\n",
              "      <td>Audi 90</td>\n",
              "    </tr>\n",
              "    <tr>\n",
              "      <th>3</th>\n",
              "      <td>Audi</td>\n",
              "      <td>100</td>\n",
              "      <td>Midsize</td>\n",
              "      <td>NaN</td>\n",
              "      <td>37.7</td>\n",
              "      <td>44.6</td>\n",
              "      <td>19.0</td>\n",
              "      <td>26.0</td>\n",
              "      <td>Driver &amp; Passenger</td>\n",
              "      <td>NaN</td>\n",
              "      <td>...</td>\n",
              "      <td>6.0</td>\n",
              "      <td>193.0</td>\n",
              "      <td>106.0</td>\n",
              "      <td>NaN</td>\n",
              "      <td>37.0</td>\n",
              "      <td>31.0</td>\n",
              "      <td>17.0</td>\n",
              "      <td>3405.0</td>\n",
              "      <td>non-USA</td>\n",
              "      <td>Audi 100</td>\n",
              "    </tr>\n",
              "    <tr>\n",
              "      <th>4</th>\n",
              "      <td>BMW</td>\n",
              "      <td>535i</td>\n",
              "      <td>Midsize</td>\n",
              "      <td>NaN</td>\n",
              "      <td>30.0</td>\n",
              "      <td>NaN</td>\n",
              "      <td>22.0</td>\n",
              "      <td>30.0</td>\n",
              "      <td>NaN</td>\n",
              "      <td>Rear</td>\n",
              "      <td>...</td>\n",
              "      <td>4.0</td>\n",
              "      <td>186.0</td>\n",
              "      <td>109.0</td>\n",
              "      <td>69.0</td>\n",
              "      <td>39.0</td>\n",
              "      <td>27.0</td>\n",
              "      <td>13.0</td>\n",
              "      <td>3640.0</td>\n",
              "      <td>non-USA</td>\n",
              "      <td>BMW 535i</td>\n",
              "    </tr>\n",
              "  </tbody>\n",
              "</table>\n",
              "<p>5 rows × 27 columns</p>\n",
              "</div>\n",
              "      <button class=\"colab-df-convert\" onclick=\"convertToInteractive('df-b463b4d7-0e02-4e62-851c-d4d4c9416f29')\"\n",
              "              title=\"Convert this dataframe to an interactive table.\"\n",
              "              style=\"display:none;\">\n",
              "        \n",
              "  <svg xmlns=\"http://www.w3.org/2000/svg\" height=\"24px\"viewBox=\"0 0 24 24\"\n",
              "       width=\"24px\">\n",
              "    <path d=\"M0 0h24v24H0V0z\" fill=\"none\"/>\n",
              "    <path d=\"M18.56 5.44l.94 2.06.94-2.06 2.06-.94-2.06-.94-.94-2.06-.94 2.06-2.06.94zm-11 1L8.5 8.5l.94-2.06 2.06-.94-2.06-.94L8.5 2.5l-.94 2.06-2.06.94zm10 10l.94 2.06.94-2.06 2.06-.94-2.06-.94-.94-2.06-.94 2.06-2.06.94z\"/><path d=\"M17.41 7.96l-1.37-1.37c-.4-.4-.92-.59-1.43-.59-.52 0-1.04.2-1.43.59L10.3 9.45l-7.72 7.72c-.78.78-.78 2.05 0 2.83L4 21.41c.39.39.9.59 1.41.59.51 0 1.02-.2 1.41-.59l7.78-7.78 2.81-2.81c.8-.78.8-2.07 0-2.86zM5.41 20L4 18.59l7.72-7.72 1.47 1.35L5.41 20z\"/>\n",
              "  </svg>\n",
              "      </button>\n",
              "      \n",
              "  <style>\n",
              "    .colab-df-container {\n",
              "      display:flex;\n",
              "      flex-wrap:wrap;\n",
              "      gap: 12px;\n",
              "    }\n",
              "\n",
              "    .colab-df-convert {\n",
              "      background-color: #E8F0FE;\n",
              "      border: none;\n",
              "      border-radius: 50%;\n",
              "      cursor: pointer;\n",
              "      display: none;\n",
              "      fill: #1967D2;\n",
              "      height: 32px;\n",
              "      padding: 0 0 0 0;\n",
              "      width: 32px;\n",
              "    }\n",
              "\n",
              "    .colab-df-convert:hover {\n",
              "      background-color: #E2EBFA;\n",
              "      box-shadow: 0px 1px 2px rgba(60, 64, 67, 0.3), 0px 1px 3px 1px rgba(60, 64, 67, 0.15);\n",
              "      fill: #174EA6;\n",
              "    }\n",
              "\n",
              "    [theme=dark] .colab-df-convert {\n",
              "      background-color: #3B4455;\n",
              "      fill: #D2E3FC;\n",
              "    }\n",
              "\n",
              "    [theme=dark] .colab-df-convert:hover {\n",
              "      background-color: #434B5C;\n",
              "      box-shadow: 0px 1px 3px 1px rgba(0, 0, 0, 0.15);\n",
              "      filter: drop-shadow(0px 1px 2px rgba(0, 0, 0, 0.3));\n",
              "      fill: #FFFFFF;\n",
              "    }\n",
              "  </style>\n",
              "\n",
              "      <script>\n",
              "        const buttonEl =\n",
              "          document.querySelector('#df-b463b4d7-0e02-4e62-851c-d4d4c9416f29 button.colab-df-convert');\n",
              "        buttonEl.style.display =\n",
              "          google.colab.kernel.accessAllowed ? 'block' : 'none';\n",
              "\n",
              "        async function convertToInteractive(key) {\n",
              "          const element = document.querySelector('#df-b463b4d7-0e02-4e62-851c-d4d4c9416f29');\n",
              "          const dataTable =\n",
              "            await google.colab.kernel.invokeFunction('convertToInteractive',\n",
              "                                                     [key], {});\n",
              "          if (!dataTable) return;\n",
              "\n",
              "          const docLinkHtml = 'Like what you see? Visit the ' +\n",
              "            '<a target=\"_blank\" href=https://colab.research.google.com/notebooks/data_table.ipynb>data table notebook</a>'\n",
              "            + ' to learn more about interactive tables.';\n",
              "          element.innerHTML = '';\n",
              "          dataTable['output_type'] = 'display_data';\n",
              "          await google.colab.output.renderOutput(dataTable, element);\n",
              "          const docLink = document.createElement('div');\n",
              "          docLink.innerHTML = docLinkHtml;\n",
              "          element.appendChild(docLink);\n",
              "        }\n",
              "      </script>\n",
              "    </div>\n",
              "  </div>\n",
              "  "
            ]
          },
          "metadata": {},
          "execution_count": 18
        }
      ]
    },
    {
      "cell_type": "markdown",
      "source": [
        "**Problem 8**\n",
        "\n",
        "Use an optional parameter for the .read_csv() to only import the 'crim' and 'medv' columns of the following dataset as a dataframe.\n",
        "\n",
        "https://raw.githubusercontent.com/selva86/datasets/master/BostonHousing.csv"
      ],
      "metadata": {
        "id": "YpjhV0_SCHuG"
      }
    },
    {
      "cell_type": "code",
      "source": [
        "df = pd.read_csv('https://raw.githubusercontent.com/selva86/datasets/master/BostonHousing.csv')\n",
        "df = df[['crim', 'medv']]\n",
        "print(df)"
      ],
      "metadata": {
        "id": "S-FEPEgeCgN0",
        "outputId": "90c715a5-b02a-4104-9754-42f5f3b3aefd",
        "colab": {
          "base_uri": "https://localhost:8080/"
        }
      },
      "execution_count": 22,
      "outputs": [
        {
          "output_type": "stream",
          "name": "stdout",
          "text": [
            "        crim  medv\n",
            "0    0.00632  24.0\n",
            "1    0.02731  21.6\n",
            "2    0.02729  34.7\n",
            "3    0.03237  33.4\n",
            "4    0.06905  36.2\n",
            "..       ...   ...\n",
            "501  0.06263  22.4\n",
            "502  0.04527  20.6\n",
            "503  0.06076  23.9\n",
            "504  0.10959  22.0\n",
            "505  0.04741  11.9\n",
            "\n",
            "[506 rows x 2 columns]\n"
          ]
        }
      ]
    },
    {
      "cell_type": "markdown",
      "source": [
        "**Problem 9**\n",
        "\n",
        "Using the dataframe from Problem 7, use the .rename() or .values() method to rename the column 'Type' as 'Car Type'"
      ],
      "metadata": {
        "id": "jTaynGXICgoy"
      }
    },
    {
      "cell_type": "code",
      "source": [
        "rename_df= df7.rename(columns={'Type': 'Car Type'})\n",
        "print(rename_df)"
      ],
      "metadata": {
        "id": "4jchIekvDOfd",
        "outputId": "a10429a1-f244-417f-b498-1128d9530c0e",
        "colab": {
          "base_uri": "https://localhost:8080/"
        }
      },
      "execution_count": 24,
      "outputs": [
        {
          "output_type": "stream",
          "name": "stdout",
          "text": [
            "   Manufacturer    Model Car Type  Min.Price  Price  Max.Price  MPG.city  \\\n",
            "0         Acura  Integra    Small       12.9   15.9       18.8      25.0   \n",
            "1           NaN   Legend  Midsize       29.2   33.9       38.7      18.0   \n",
            "2          Audi       90  Compact       25.9   29.1       32.3      20.0   \n",
            "3          Audi      100  Midsize        NaN   37.7       44.6      19.0   \n",
            "4           BMW     535i  Midsize        NaN   30.0        NaN      22.0   \n",
            "..          ...      ...      ...        ...    ...        ...       ...   \n",
            "88   Volkswagen  Eurovan      Van       16.6   19.7       22.7      17.0   \n",
            "89   Volkswagen   Passat  Compact       17.6   20.0       22.4      21.0   \n",
            "90   Volkswagen  Corrado   Sporty       22.9   23.3       23.7      18.0   \n",
            "91        Volvo      240  Compact       21.8   22.7       23.5      21.0   \n",
            "92          NaN      850  Midsize       24.8   26.7       28.5      20.0   \n",
            "\n",
            "    MPG.highway             AirBags DriveTrain  ... Passengers  Length  \\\n",
            "0          31.0                None      Front  ...        5.0   177.0   \n",
            "1          25.0  Driver & Passenger      Front  ...        5.0   195.0   \n",
            "2          26.0         Driver only      Front  ...        5.0   180.0   \n",
            "3          26.0  Driver & Passenger        NaN  ...        6.0   193.0   \n",
            "4          30.0                 NaN       Rear  ...        4.0   186.0   \n",
            "..          ...                 ...        ...  ...        ...     ...   \n",
            "88         21.0                None      Front  ...        7.0   187.0   \n",
            "89         30.0                None      Front  ...        5.0   180.0   \n",
            "90         25.0                None      Front  ...        4.0   159.0   \n",
            "91         28.0         Driver only       Rear  ...        5.0   190.0   \n",
            "92         28.0  Driver & Passenger      Front  ...        5.0   184.0   \n",
            "\n",
            "    Wheelbase  Width  Turn.circle Rear.seat.room  Luggage.room  Weight  \\\n",
            "0       102.0   68.0         37.0           26.5           NaN  2705.0   \n",
            "1       115.0   71.0         38.0           30.0          15.0  3560.0   \n",
            "2       102.0   67.0         37.0           28.0          14.0  3375.0   \n",
            "3       106.0    NaN         37.0           31.0          17.0  3405.0   \n",
            "4       109.0   69.0         39.0           27.0          13.0  3640.0   \n",
            "..        ...    ...          ...            ...           ...     ...   \n",
            "88      115.0   72.0         38.0           34.0           NaN  3960.0   \n",
            "89      103.0   67.0         35.0           31.5          14.0  2985.0   \n",
            "90       97.0   66.0         36.0           26.0          15.0  2810.0   \n",
            "91      104.0   67.0         37.0           29.5          14.0  2985.0   \n",
            "92      105.0   69.0         38.0           30.0          15.0  3245.0   \n",
            "\n",
            "     Origin                Make  \n",
            "0   non-USA       Acura Integra  \n",
            "1   non-USA        Acura Legend  \n",
            "2   non-USA             Audi 90  \n",
            "3   non-USA            Audi 100  \n",
            "4   non-USA            BMW 535i  \n",
            "..      ...                 ...  \n",
            "88      NaN  Volkswagen Eurovan  \n",
            "89  non-USA   Volkswagen Passat  \n",
            "90  non-USA  Volkswagen Corrado  \n",
            "91  non-USA           Volvo 240  \n",
            "92  non-USA           Volvo 850  \n",
            "\n",
            "[93 rows x 27 columns]\n"
          ]
        }
      ]
    },
    {
      "cell_type": "markdown",
      "source": [
        "**Problem 10**\n",
        "\n",
        "Using the same dataframe from Problem 9, use df.columns.map() with a lambda function to replace all of the \".\" with an \"_\" in the column names."
      ],
      "metadata": {
        "id": "Ckg787gYDPAK"
      }
    },
    {
      "cell_type": "code",
      "source": [
        "replace_with_lambda = rename_df.columns.map(lambda x:x.replace ('.', '_'))\n",
        "print(replace_with_lambda)"
      ],
      "metadata": {
        "id": "3L59t7jBDnkv",
        "outputId": "ffd2ceac-3663-409f-c461-0d81d8f48bbe",
        "colab": {
          "base_uri": "https://localhost:8080/"
        }
      },
      "execution_count": 28,
      "outputs": [
        {
          "output_type": "stream",
          "name": "stdout",
          "text": [
            "Index(['Manufacturer', 'Model', 'Car Type', 'Min_Price', 'Price', 'Max_Price',\n",
            "       'MPG_city', 'MPG_highway', 'AirBags', 'DriveTrain', 'Cylinders',\n",
            "       'EngineSize', 'Horsepower', 'RPM', 'Rev_per_mile', 'Man_trans_avail',\n",
            "       'Fuel_tank_capacity', 'Passengers', 'Length', 'Wheelbase', 'Width',\n",
            "       'Turn_circle', 'Rear_seat_room', 'Luggage_room', 'Weight', 'Origin',\n",
            "       'Make'],\n",
            "      dtype='object')\n"
          ]
        }
      ]
    },
    {
      "cell_type": "markdown",
      "source": [
        "**Problem 11**\n",
        "\n",
        "Use the same dataframe from Problem 10. Search the documentation for a built in method to check if the dataframe has any missing values.\n",
        "\n",
        "*Hint: you may need to chain multiple methods and attributes"
      ],
      "metadata": {
        "id": "NBs8sI0vDrrS"
      }
    },
    {
      "cell_type": "code",
      "source": [
        "x= replace_with_lambda.isnull()\n",
        "print(x)"
      ],
      "metadata": {
        "id": "Uj_uwIDhD8It",
        "outputId": "5d5d9f59-97e9-4a5f-fc87-e3b45e093f65",
        "colab": {
          "base_uri": "https://localhost:8080/"
        }
      },
      "execution_count": 35,
      "outputs": [
        {
          "output_type": "stream",
          "name": "stdout",
          "text": [
            "[False False False False False False False False False False False False\n",
            " False False False False False False False False False False False False\n",
            " False False False]\n"
          ]
        }
      ]
    },
    {
      "cell_type": "markdown",
      "source": [
        "**Problem 12**\n",
        "\n",
        "Use the same dataframe from Problem 11. Use the .apply() method along with a lambda function to count the number of missing values in each column of the datarame."
      ],
      "metadata": {
        "id": "JUvMtJJCECxo"
      }
    },
    {
      "cell_type": "code",
      "source": [
        "missing_counts = df.apply(lambda y: y.isnull().sum())\n",
        "print(missing_counts)"
      ],
      "metadata": {
        "id": "iGLievTZEPup",
        "outputId": "d5962abd-0d3f-48d4-97c8-6627563e6526",
        "colab": {
          "base_uri": "https://localhost:8080/"
        }
      },
      "execution_count": 39,
      "outputs": [
        {
          "output_type": "stream",
          "name": "stdout",
          "text": [
            "crim    0\n",
            "medv    0\n",
            "dtype: int64\n"
          ]
        }
      ]
    },
    {
      "cell_type": "markdown",
      "source": [
        "**Problem 13**\n",
        "\n",
        "Use the same dataframe from Problem 12. Use .loc and .iloc on the dataframe. What is the difference between the two?"
      ],
      "metadata": {
        "id": "BEzy4rTrEgAg"
      }
    },
    {
      "cell_type": "code",
      "source": [],
      "metadata": {
        "id": "yaHzlT-lEsas"
      },
      "execution_count": null,
      "outputs": []
    },
    {
      "cell_type": "markdown",
      "source": [
        "**Problem 14**\n",
        "\n",
        "Use the same dataframe from Problem 13, Use the .sortindex() method to sort the columns in reverse alphabetical order."
      ],
      "metadata": {
        "id": "6BtQbm8oE_s8"
      }
    },
    {
      "cell_type": "code",
      "source": [],
      "metadata": {
        "id": "lxoWW-C_FLo1"
      },
      "execution_count": null,
      "outputs": []
    },
    {
      "cell_type": "markdown",
      "source": [
        "Problem 15\n",
        "\n",
        "Use the same dataframe from Problem 14. Change the pandas display setting on printing the dataframe so that it shows a maximum of 10 rows and 10 columns."
      ],
      "metadata": {
        "id": "YXVBJqajFU9i"
      }
    },
    {
      "cell_type": "code",
      "source": [],
      "metadata": {
        "id": "58RTbPFsFf8l"
      },
      "execution_count": null,
      "outputs": []
    }
  ]
}