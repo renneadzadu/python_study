{
 "cells": [
  {
   "cell_type": "code",
   "execution_count": null,
   "metadata": {},
   "outputs": [],
   "source": [
    "friends =['renne', 'mike', 'ronny', 'grace']\n",
    "print(friends)\n",
    "for friend in friends:\n",
    "    print('Hi ' f'{friend.capitalize()}')\n",
    "    for letter in friend:\n",
    "        print(letter)\n"
   ]
  },
  {
   "cell_type": "code",
   "execution_count": null,
   "metadata": {},
   "outputs": [],
   "source": [
    "names=['mike', 'ruth',['rizta','mark'],'barbar']\n",
    "print(names)\n",
    "print(names[::])\n",
    "print(len(names))\n",
    "print(names[2][0][2]) # thsi will print z\n",
    "for name in names:\n",
    "    print(name)\n",
    "    for letter in name:\n",
    "        print(letter)\n",
    "        for x in letter:\n",
    "            print(x)\n",
    "            for y in x:\n",
    "                print(\"hii\", y)"
   ]
  },
  {
   "cell_type": "code",
   "execution_count": null,
   "metadata": {},
   "outputs": [],
   "source": [
    "for i in range(1,8):\n",
    "    print(\"this is a range printing out\", str(i))\n",
    "\n",
    "for i in range(0,8):\n",
    "    print(i)\n",
    "print(type(i))"
   ]
  },
  {
   "cell_type": "code",
   "execution_count": null,
   "metadata": {},
   "outputs": [],
   "source": [
    "def greeting_friends(best_friends):\n",
    "    for friend in best_friends:\n",
    "        print( \"this will loop and prints all the letters \" + friend)\n",
    " \n",
    "\n",
    "greeting_friends(\"ronny\")\n",
    "greeting_friends(\"abby\")\n",
    "greeting_friends(\"grace\")\n",
    "greeting_friends(\"ronny\")\n"
   ]
  },
  {
   "cell_type": "code",
   "execution_count": null,
   "metadata": {},
   "outputs": [],
   "source": [
    "def greeting_friends(best_friends):\n",
    "    #for best_friend in best_friends:\n",
    "        print( \"hi \" + best_friends)\n",
    " \n",
    "\n",
    "greeting_friends(\"ronny\")\n",
    "greeting_friends(\"abby\")\n",
    "greeting_friends(\"grace\")\n",
    "greeting_friends(\"ronny\")\n",
    "\n"
   ]
  },
  {
   "cell_type": "code",
   "execution_count": null,
   "metadata": {},
   "outputs": [],
   "source": [
    "def greeting(name):\n",
    "    print(\"welcome!!\" , name) #testing the print method\n",
    "\n",
    "greeting(\"RENNE\".lower())\n",
    "greeting(\"allison\".upper())"
   ]
  },
  {
   "cell_type": "code",
   "execution_count": null,
   "metadata": {},
   "outputs": [],
   "source": [
    "def greeting(name):\n",
    "    return(\"welcome!!\" , name) #testing the return statement\n",
    "\n",
    "print(greeting(\"RENNE\".lower()))\n",
    "print(greeting(\"allison\".upper()))"
   ]
  },
  {
   "cell_type": "code",
   "execution_count": null,
   "metadata": {},
   "outputs": [],
   "source": [
    "def identity(first_name, last_name):\n",
    "    print((\"my name is \" + first_name + last_name).upper())\n",
    "\n",
    "identity(\"renne \", \"adzo\")"
   ]
  },
  {
   "cell_type": "code",
   "execution_count": null,
   "metadata": {},
   "outputs": [],
   "source": [
    "def convert_seconds(seconds):\n",
    "    hours = seconds // 3600\n",
    "    minutes =(seconds - hours *3600) //60\n",
    "    remaining_seconds = seconds - hours * 3600 - minutes * 60\n",
    "    return hours, minutes, remaining_seconds\n",
    "\n",
    "hours, minutes, seconds = convert_seconds(6500) #this three valuables are called tuplea\n",
    "return_statement = convert_seconds(6500) # or this \n",
    "print(hours, minutes, seconds )\n",
    "print(return_statement)\n",
    "print(hours)\n",
    "print(minutes)\n",
    "print(seconds)\n",
    "print(type(seconds))\n",
    "print(type(return_statement))\n",
    "print(locals())"
   ]
  },
  {
   "cell_type": "code",
   "execution_count": null,
   "metadata": {},
   "outputs": [],
   "source": [
    "def area_triangle(base, hight):\n",
    "    return base*hight/2\n",
    "    \n",
    "area_a = area_triangle(5,4)\n",
    "area_b = area_triangle(7,3)\n",
    "sumof = area_a + area_b \n",
    "ans = (\"this is just an examples of \" + str(sumof))\n",
    "print(ans)\n",
    "print(type(sumof))\n",
    "print(type(ans))\n",
    "print(type(area_triangle))\n",
    "print(globals())\n",
    "\n"
   ]
  }
 ],
 "metadata": {
  "kernelspec": {
   "display_name": "Python 3",
   "language": "python",
   "name": "python3"
  },
  "language_info": {
   "codemirror_mode": {
    "name": "ipython",
    "version": 3
   },
   "file_extension": ".py",
   "mimetype": "text/x-python",
   "name": "python",
   "nbconvert_exporter": "python",
   "pygments_lexer": "ipython3",
   "version": "3.10.10"
  },
  "orig_nbformat": 4
 },
 "nbformat": 4,
 "nbformat_minor": 2
}
