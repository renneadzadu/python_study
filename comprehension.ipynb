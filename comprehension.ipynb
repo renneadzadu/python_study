{
 "cells": [
  {
   "attachments": {},
   "cell_type": "markdown",
   "metadata": {},
   "source": [
    "https://realpython.com/python-json/\n",
    "https://realpython.com/python-json/\n",
    "https://realpython.com/api-integration-in-python/\n"
   ]
  },
  {
   "cell_type": "code",
   "execution_count": null,
   "metadata": {},
   "outputs": [],
   "source": [
    "#examples of comprehensions\n",
    "my_list = [e**2 for e in range(1,10,2)]\n",
    "\n",
    "my_list = []\n",
    "for e in range(1,10,2):\n",
    "    my_list.append(e**2)\n",
    "\n",
    "# comprehenssion  with if statements\n",
    "my_list = [e**2 for e in range(10) if e%2 == 1]\n",
    "\n",
    "\n",
    "my_list = []\n",
    "for e in range(10):\n",
    "    if e%2 == 1:\n",
    "        my_list.append(e**2)"
   ]
  },
  {
   "cell_type": "code",
   "execution_count": null,
   "metadata": {},
   "outputs": [],
   "source": [
    "grades = [95,99,83,75,91]\n",
    "\n",
    "grades_1 =[(\"A\" if g>=90 else (\"B\" if g>75 else \"C\")) for g in grades]\n",
    "\n",
    "#OR\n",
    "grades_1 = []\n",
    "for g in grades:\n",
    "    if g >= 90:\n",
    "        grades_1.append(\"A\")\n",
    "    elif g >=75:\n",
    "        grades_1.append(\"B\")\n",
    "    else:\n",
    "        grades_1.append(\"C\")\n",
    "\n"
   ]
  },
  {
   "cell_type": "code",
   "execution_count": null,
   "metadata": {},
   "outputs": [],
   "source": [
    "for x in range(100):\n",
    "    if x%3==0 and  x % 5 ==0:\n",
    "        print(\"fizzBuzz\")\n",
    "    elif x% 3 ==0:\n",
    "        print(\"Fizz\")\n",
    "    elif x % 5 ==0:\n",
    "        print(\"Buzz\")\n"
   ]
  },
  {
   "cell_type": "code",
   "execution_count": 62,
   "metadata": {},
   "outputs": [
    {
     "data": {
      "text/plain": [
       "[1,\n",
       " 2,\n",
       " 'Fizz',\n",
       " 4,\n",
       " 'Buzz',\n",
       " 'Fizz',\n",
       " 7,\n",
       " 8,\n",
       " 'Fizz',\n",
       " 'Buzz',\n",
       " 11,\n",
       " 'Fizz',\n",
       " 13,\n",
       " 14,\n",
       " 'FizzBuzz',\n",
       " 16,\n",
       " 17,\n",
       " 'Fizz',\n",
       " 19,\n",
       " 'Buzz',\n",
       " 'Fizz',\n",
       " 22,\n",
       " 23,\n",
       " 'Fizz',\n",
       " 'Buzz',\n",
       " 26,\n",
       " 'Fizz',\n",
       " 28,\n",
       " 29,\n",
       " 'FizzBuzz',\n",
       " 31,\n",
       " 32,\n",
       " 'Fizz',\n",
       " 34,\n",
       " 'Buzz',\n",
       " 'Fizz',\n",
       " 37,\n",
       " 38,\n",
       " 'Fizz',\n",
       " 'Buzz',\n",
       " 41,\n",
       " 'Fizz',\n",
       " 43,\n",
       " 44,\n",
       " 'FizzBuzz',\n",
       " 46,\n",
       " 47,\n",
       " 'Fizz',\n",
       " 49,\n",
       " 'Buzz',\n",
       " 'Fizz',\n",
       " 52,\n",
       " 53,\n",
       " 'Fizz',\n",
       " 'Buzz',\n",
       " 56,\n",
       " 'Fizz',\n",
       " 58,\n",
       " 59,\n",
       " 'FizzBuzz',\n",
       " 61,\n",
       " 62,\n",
       " 'Fizz',\n",
       " 64,\n",
       " 'Buzz',\n",
       " 'Fizz',\n",
       " 67,\n",
       " 68,\n",
       " 'Fizz',\n",
       " 'Buzz',\n",
       " 71,\n",
       " 'Fizz',\n",
       " 73,\n",
       " 74,\n",
       " 'FizzBuzz',\n",
       " 76,\n",
       " 77,\n",
       " 'Fizz',\n",
       " 79,\n",
       " 'Buzz',\n",
       " 'Fizz',\n",
       " 82,\n",
       " 83,\n",
       " 'Fizz',\n",
       " 'Buzz',\n",
       " 86,\n",
       " 'Fizz',\n",
       " 88,\n",
       " 89,\n",
       " 'FizzBuzz',\n",
       " 91,\n",
       " 92,\n",
       " 'Fizz',\n",
       " 94,\n",
       " 'Buzz',\n",
       " 'Fizz',\n",
       " 97,\n",
       " 98,\n",
       " 'Fizz',\n",
       " 'Buzz']"
      ]
     },
     "execution_count": 62,
     "metadata": {},
     "output_type": "execute_result"
    }
   ],
   "source": [
    "['FizzBuzz' if (n % 15 == 0) else ('Fizz' if (n % 3 == 0) else 'Buzz' if (n % 5  == 0) else n) for n in range(1, 101)]"
   ]
  },
  {
   "cell_type": "code",
   "execution_count": null,
   "metadata": {},
   "outputs": [],
   "source": [
    "def even_n(max_n=1):\n",
    "    n=1\n",
    "    while n <= max_n:\n",
    "        yield n*2\n",
    "        n+= 1\n",
    "\n",
    "i = even_n(4)\n",
    "print(next(i))\n",
    "print(next(i))\n",
    "print(next(i))\n",
    "print(next(i))\n"
   ]
  },
  {
   "cell_type": "code",
   "execution_count": null,
   "metadata": {},
   "outputs": [],
   "source": [
    "def primes_gen():\n",
    "    n = 2\n",
    "    while True:\n",
    "        flag = 0\n",
    "        i = 2\n",
    "        while i <= (n/2):\n",
    "            if (n%i) == 0:\n",
    "                flag = 1\n",
    "                break\n",
    "            i += 1\n",
    "        if flag == 0:\n",
    "            yield n\n",
    "        n += 1\n",
    "    \n",
    "\n",
    "gen = primes_gen()\n",
    "for _ in range(100): print(next(gen), end=' ')"
   ]
  },
  {
   "cell_type": "code",
   "execution_count": null,
   "metadata": {},
   "outputs": [],
   "source": [
    "def Prime_Generator():\n",
    "       \n",
    "       n = 2\n",
    "       while True:\n",
    "           if all(n%p!=0 for p in range(2,n)):\n",
    "               \n",
    "               yield n\n",
    "           n+= 1\n",
    "        \n",
    "gen = Prime_Generator() \n",
    "\n",
    "for _ in range(10): print(next(gen), end=\" \")"
   ]
  },
  {
   "cell_type": "code",
   "execution_count": null,
   "metadata": {},
   "outputs": [],
   "source": [
    "def power_of_two():\n",
    "    n = 1\n",
    "    while true:\n",
    "        n*=2\n",
    "    yield n\n",
    "powers = power_of_two()\n",
    "for _ in range(20):\n",
    "    print(next(powers))"
   ]
  },
  {
   "cell_type": "code",
   "execution_count": null,
   "metadata": {},
   "outputs": [],
   "source": [
    "a = [1, 1, 2, 3, 5, 8, 13, 21, 34, 55, 89]\n",
    "b = [1, 2, 3, 4, 5, 6, 7, 8, 9, 10, 11, 12, 13]\n",
    "\n",
    "for \n",
    "\n",
    "\n"
   ]
  },
  {
   "cell_type": "code",
   "execution_count": 61,
   "metadata": {},
   "outputs": [
    {
     "name": "stdout",
     "output_type": "stream",
     "text": [
      "9\n",
      "[56, 6, 40, 37, 22, 11, 19]\n"
     ]
    }
   ],
   "source": [
    "import random\n",
    "\n",
    "x = random.randint(0, 10)\n",
    "print(x)\n",
    "\n",
    "a = random.sample(range(1,60),7)\n",
    "print(a)"
   ]
  }
 ],
 "metadata": {
  "kernelspec": {
   "display_name": "Python 3",
   "language": "python",
   "name": "python3"
  },
  "language_info": {
   "codemirror_mode": {
    "name": "ipython",
    "version": 3
   },
   "file_extension": ".py",
   "mimetype": "text/x-python",
   "name": "python",
   "nbconvert_exporter": "python",
   "pygments_lexer": "ipython3",
   "version": "3.10.10"
  },
  "orig_nbformat": 4
 },
 "nbformat": 4,
 "nbformat_minor": 2
}
