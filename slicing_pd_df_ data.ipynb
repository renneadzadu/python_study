{
 "cells": [
  {
   "attachments": {},
   "cell_type": "markdown",
   "metadata": {},
   "source": [
    "Slicing Pandas Dataframe’s Data\n",
    "Slicing Dataframe using DataFrame.iloc[]\n"
   ]
  },
  {
   "cell_type": "code",
   "execution_count": 5,
   "metadata": {},
   "outputs": [],
   "source": [
    "import pandas as pd\n",
    "import numpy as np"
   ]
  },
  {
   "cell_type": "code",
   "execution_count": 6,
   "metadata": {},
   "outputs": [
    {
     "name": "stdout",
     "output_type": "stream",
     "text": [
      " ------data frame before slicing-----\n",
      "       Name  Age  Weight   Salary\n",
      "0     James   36      75  5428000\n",
      "1   Villers   38      74  3428000\n",
      "2     VKole   31      70  8428000\n",
      "3     Smith   34      80  4428000\n",
      "4     Gayle   40     100  4528000\n",
      "5    Rooter   33      72  7028000\n",
      "6  Peterson   42      85  2528000\n",
      "7      John   41      85  1528000\n",
      " ------data frame after slicing----\n",
      "      Name  Age  Weight   Salary\n",
      "0    James   36      75  5428000\n",
      "1  Villers   38      74  3428000\n",
      "2    VKole   31      70  8428000\n",
      "3    Smith   34      80  4428000\n"
     ]
    }
   ],
   "source": [
    " \n",
    "#Slicing by rows using DataFrame.iloc[]\n",
    "# Initializing the nested list with Data set\n",
    "employee_list = [['James', 36, 75, 5428000],\n",
    "               ['Villers', 38, 74, 3428000],\n",
    "               ['VKole', 31, 70, 8428000],\n",
    "               ['Smith', 34, 80, 4428000],\n",
    "               ['Gayle', 40, 100, 4528000],\n",
    "               ['Rooter', 33, 72, 7028000],\n",
    "               ['Peterson', 42, 85, 2528000],\n",
    "               ['John', 41, 85, 1528000]]\n",
    " \n",
    "# creating a pandas dataframe\n",
    "df = pd.DataFrame(employee_list, columns=['Name', 'Age', 'Weight', 'Salary'])\n",
    " \n",
    "print(' ------data frame before slicing-----')\n",
    "print(df)\n",
    "\n",
    "# Slicing rows in data frame\n",
    "df1 = df.iloc[0:4]\n",
    "print(' ------data frame after slicing----')\n",
    "print(df1)\n"
   ]
  },
  {
   "cell_type": "code",
   "execution_count": 10,
   "metadata": {},
   "outputs": [
    {
     "name": "stdout",
     "output_type": "stream",
     "text": [
      "       Name  Age  Weight   Salary\n",
      "0     James   36      75  5428000\n",
      "1   Villers   38      74  3428000\n",
      "2     VKole   31      70  8428000\n",
      "3     Smith   34      80  4428000\n",
      "4     Gayle   40     100  4528000\n",
      "5    Rooter   33      72  7028000\n",
      "6  Peterson   42      85  2528000\n",
      "7      John   41      85  1528000\n",
      "====Slicing columns in data frame======\n",
      "       Name  Age  Weight\n",
      "0     James   36      75\n",
      "1   Villers   38      74\n",
      "2     VKole   31      70\n",
      "3     Smith   34      80\n",
      "4     Gayle   40     100\n",
      "5    Rooter   33      72\n",
      "6  Peterson   42      85\n",
      "7      John   41      85\n"
     ]
    }
   ],
   "source": [
    "#Slicing by columns\n",
    "# Initializing the nested list with Data set\n",
    "employee_list = [['James', 36, 75, 5428000],\n",
    "               ['Villers', 38, 74, 3428000],\n",
    "               ['VKole', 31, 70, 8428000],\n",
    "               ['Smith', 34, 80, 4428000],\n",
    "               ['Gayle', 40, 100, 4528000],\n",
    "               ['Rooter', 33, 72, 7028000],\n",
    "               ['Peterson', 42, 85, 2528000],\n",
    "               ['John', 41, 85, 1528000]]\n",
    " \n",
    "# creating a pandas dataframe\n",
    "df = pd.DataFrame(employee_list, columns=['Name', 'Age', 'Weight', 'Salary'])\n",
    " \n",
    "# data frame before slicing\n",
    "print(df)\n",
    "print( '====Slicing columns in data frame======')\n",
    "\n",
    "emp_df =df.iloc[:, 0:3]\n",
    "print(emp_df)\n"
   ]
  },
  {
   "cell_type": "code",
   "execution_count": 11,
   "metadata": {},
   "outputs": [
    {
     "name": "stdout",
     "output_type": "stream",
     "text": [
      "  team  points  assists  rebounds  steals  blocks\n",
      "0    A      18        5        11       4       1\n",
      "1    B      22        7         8       3       0\n",
      "2    C      19        7        10       3       0\n",
      "3    D      14        9         6       2       3\n",
      "4    E      14       12         6       5       2\n",
      "5    F      11        9         5       4       2\n",
      "6    G      20        9         9       3       1\n",
      "7    H      28        4        12       8       5\n"
     ]
    }
   ],
   "source": [
    "#Slicing Dataframe using DataFrame.loc[]\n",
    "#create DataFrame with six columns\n",
    "df = pd.DataFrame({'team': ['A', 'B', 'C', 'D', 'E', 'F', 'G', 'H'],\n",
    "                   'points': [18, 22, 19, 14, 14, 11, 20, 28],\n",
    "                   'assists': [5, 7, 7, 9, 12, 9, 9, 4],\n",
    "                   'rebounds': [11, 8, 10, 6, 6, 5, 9, 12],\n",
    "                   'steals': [4, 3, 3, 2, 5, 4, 3, 8],\n",
    "                   'blocks': [1, 0, 0, 3, 2, 2, 1, 5]})\n",
    "\n",
    "#view DataFrame\n",
    "print(df)\n"
   ]
  },
  {
   "cell_type": "code",
   "execution_count": 12,
   "metadata": {},
   "outputs": [
    {
     "name": "stdout",
     "output_type": "stream",
     "text": [
      "  team  rebounds\n",
      "0    A        11\n",
      "1    B         8\n",
      "2    C        10\n",
      "3    D         6\n",
      "4    E         6\n",
      "5    F         5\n",
      "6    G         9\n",
      "7    H        12\n"
     ]
    }
   ],
   "source": [
    "#Slice by Specific Column Names\n",
    "#slice columns team and rebounds\n",
    "df_new = df.loc[:, ['team', 'rebounds']]\n",
    "\n",
    "#view new DataFrame\n",
    "print(df_new)\n"
   ]
  },
  {
   "cell_type": "code",
   "execution_count": 13,
   "metadata": {},
   "outputs": [
    {
     "name": "stdout",
     "output_type": "stream",
     "text": [
      "  team  points  assists  rebounds\n",
      "0    A      18        5        11\n",
      "1    B      22        7         8\n",
      "2    C      19        7        10\n",
      "3    D      14        9         6\n",
      "4    E      14       12         6\n",
      "5    F      11        9         5\n",
      "6    G      20        9         9\n",
      "7    H      28        4        12\n"
     ]
    }
   ],
   "source": [
    "#slice columns between team and rebounds\n",
    "df_new = df.loc[:, 'team':'rebounds']\n",
    "\n",
    "#view new DataFrame\n",
    "print(df_new)\n"
   ]
  },
  {
   "cell_type": "code",
   "execution_count": 14,
   "metadata": {},
   "outputs": [
    {
     "data": {
      "text/plain": [
       "<bound method NDFrame.describe of   team  points  assists  rebounds  steals  blocks\n",
       "0    A      18        5        11       4       1\n",
       "1    B      22        7         8       3       0\n",
       "2    C      19        7        10       3       0\n",
       "3    D      14        9         6       2       3\n",
       "4    E      14       12         6       5       2\n",
       "5    F      11        9         5       4       2\n",
       "6    G      20        9         9       3       1\n",
       "7    H      28        4        12       8       5>"
      ]
     },
     "execution_count": 14,
     "metadata": {},
     "output_type": "execute_result"
    }
   ],
   "source": [
    "df.describeS"
   ]
  },
  {
   "cell_type": "code",
   "execution_count": 15,
   "metadata": {},
   "outputs": [
    {
     "data": {
      "text/html": [
       "<div>\n",
       "<style scoped>\n",
       "    .dataframe tbody tr th:only-of-type {\n",
       "        vertical-align: middle;\n",
       "    }\n",
       "\n",
       "    .dataframe tbody tr th {\n",
       "        vertical-align: top;\n",
       "    }\n",
       "\n",
       "    .dataframe thead th {\n",
       "        text-align: right;\n",
       "    }\n",
       "</style>\n",
       "<table border=\"1\" class=\"dataframe\">\n",
       "  <thead>\n",
       "    <tr style=\"text-align: right;\">\n",
       "      <th></th>\n",
       "      <th>team</th>\n",
       "      <th>points</th>\n",
       "      <th>assists</th>\n",
       "      <th>rebounds</th>\n",
       "      <th>steals</th>\n",
       "      <th>blocks</th>\n",
       "    </tr>\n",
       "  </thead>\n",
       "  <tbody>\n",
       "    <tr>\n",
       "      <th>count</th>\n",
       "      <td>8</td>\n",
       "      <td>8.000000</td>\n",
       "      <td>8.00000</td>\n",
       "      <td>8.000000</td>\n",
       "      <td>8.00000</td>\n",
       "      <td>8.000000</td>\n",
       "    </tr>\n",
       "    <tr>\n",
       "      <th>unique</th>\n",
       "      <td>8</td>\n",
       "      <td>NaN</td>\n",
       "      <td>NaN</td>\n",
       "      <td>NaN</td>\n",
       "      <td>NaN</td>\n",
       "      <td>NaN</td>\n",
       "    </tr>\n",
       "    <tr>\n",
       "      <th>top</th>\n",
       "      <td>A</td>\n",
       "      <td>NaN</td>\n",
       "      <td>NaN</td>\n",
       "      <td>NaN</td>\n",
       "      <td>NaN</td>\n",
       "      <td>NaN</td>\n",
       "    </tr>\n",
       "    <tr>\n",
       "      <th>freq</th>\n",
       "      <td>1</td>\n",
       "      <td>NaN</td>\n",
       "      <td>NaN</td>\n",
       "      <td>NaN</td>\n",
       "      <td>NaN</td>\n",
       "      <td>NaN</td>\n",
       "    </tr>\n",
       "    <tr>\n",
       "      <th>mean</th>\n",
       "      <td>NaN</td>\n",
       "      <td>18.250000</td>\n",
       "      <td>7.75000</td>\n",
       "      <td>8.375000</td>\n",
       "      <td>4.00000</td>\n",
       "      <td>1.750000</td>\n",
       "    </tr>\n",
       "    <tr>\n",
       "      <th>std</th>\n",
       "      <td>NaN</td>\n",
       "      <td>5.365232</td>\n",
       "      <td>2.54951</td>\n",
       "      <td>2.559994</td>\n",
       "      <td>1.85164</td>\n",
       "      <td>1.669046</td>\n",
       "    </tr>\n",
       "    <tr>\n",
       "      <th>min</th>\n",
       "      <td>NaN</td>\n",
       "      <td>11.000000</td>\n",
       "      <td>4.00000</td>\n",
       "      <td>5.000000</td>\n",
       "      <td>2.00000</td>\n",
       "      <td>0.000000</td>\n",
       "    </tr>\n",
       "    <tr>\n",
       "      <th>25%</th>\n",
       "      <td>NaN</td>\n",
       "      <td>14.000000</td>\n",
       "      <td>6.50000</td>\n",
       "      <td>6.000000</td>\n",
       "      <td>3.00000</td>\n",
       "      <td>0.750000</td>\n",
       "    </tr>\n",
       "    <tr>\n",
       "      <th>50%</th>\n",
       "      <td>NaN</td>\n",
       "      <td>18.500000</td>\n",
       "      <td>8.00000</td>\n",
       "      <td>8.500000</td>\n",
       "      <td>3.50000</td>\n",
       "      <td>1.500000</td>\n",
       "    </tr>\n",
       "    <tr>\n",
       "      <th>75%</th>\n",
       "      <td>NaN</td>\n",
       "      <td>20.500000</td>\n",
       "      <td>9.00000</td>\n",
       "      <td>10.250000</td>\n",
       "      <td>4.25000</td>\n",
       "      <td>2.250000</td>\n",
       "    </tr>\n",
       "    <tr>\n",
       "      <th>max</th>\n",
       "      <td>NaN</td>\n",
       "      <td>28.000000</td>\n",
       "      <td>12.00000</td>\n",
       "      <td>12.000000</td>\n",
       "      <td>8.00000</td>\n",
       "      <td>5.000000</td>\n",
       "    </tr>\n",
       "  </tbody>\n",
       "</table>\n",
       "</div>"
      ],
      "text/plain": [
       "       team     points   assists   rebounds   steals    blocks\n",
       "count     8   8.000000   8.00000   8.000000  8.00000  8.000000\n",
       "unique    8        NaN       NaN        NaN      NaN       NaN\n",
       "top       A        NaN       NaN        NaN      NaN       NaN\n",
       "freq      1        NaN       NaN        NaN      NaN       NaN\n",
       "mean    NaN  18.250000   7.75000   8.375000  4.00000  1.750000\n",
       "std     NaN   5.365232   2.54951   2.559994  1.85164  1.669046\n",
       "min     NaN  11.000000   4.00000   5.000000  2.00000  0.000000\n",
       "25%     NaN  14.000000   6.50000   6.000000  3.00000  0.750000\n",
       "50%     NaN  18.500000   8.00000   8.500000  3.50000  1.500000\n",
       "75%     NaN  20.500000   9.00000  10.250000  4.25000  2.250000\n",
       "max     NaN  28.000000  12.00000  12.000000  8.00000  5.000000"
      ]
     },
     "execution_count": 15,
     "metadata": {},
     "output_type": "execute_result"
    }
   ],
   "source": [
    "df.describe(include='all')"
   ]
  }
 ],
 "metadata": {
  "kernelspec": {
   "display_name": "Python 3",
   "language": "python",
   "name": "python3"
  },
  "language_info": {
   "codemirror_mode": {
    "name": "ipython",
    "version": 3
   },
   "file_extension": ".py",
   "mimetype": "text/x-python",
   "name": "python",
   "nbconvert_exporter": "python",
   "pygments_lexer": "ipython3",
   "version": "3.10.10"
  },
  "orig_nbformat": 4
 },
 "nbformat": 4,
 "nbformat_minor": 2
}
