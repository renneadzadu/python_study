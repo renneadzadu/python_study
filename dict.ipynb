{
 "cells": [
  {
   "cell_type": "code",
   "execution_count": 53,
   "metadata": {},
   "outputs": [
    {
     "name": "stdout",
     "output_type": "stream",
     "text": [
      "{'jpg': 20, 'txt': 14, 'csv': 9, 'py': 21, 'dictt': 6}\n",
      "<class 'dict'>\n"
     ]
    },
    {
     "data": {
      "text/plain": [
       "14"
      ]
     },
     "execution_count": 53,
     "metadata": {},
     "output_type": "execute_result"
    }
   ],
   "source": [
    "file_count = {\"jpg\":20, \"txt\":14, \"csv\":9, \"py\" :21, \"dictt\":6}\n",
    "print(file_count)\n",
    "print(type(file_count))\n",
    "\n",
    "file_count[\"txt\"]"
   ]
  },
  {
   "cell_type": "code",
   "execution_count": 49,
   "metadata": {},
   "outputs": [
    {
     "name": "stdout",
     "output_type": "stream",
     "text": [
      "{'jpg': 20, 'txt': 14, 'csv': 31, 'py': 21}\n"
     ]
    }
   ],
   "source": [
    "file_count[\"txt\"] # checks whats in file_count\n",
    "file_count[\"csv\"]=9+22\n",
    "print(file_count)"
   ]
  },
  {
   "cell_type": "code",
   "execution_count": 50,
   "metadata": {},
   "outputs": [
    {
     "name": "stdout",
     "output_type": "stream",
     "text": [
      "jpg\n",
      "txt\n",
      "csv\n",
      "py\n"
     ]
    }
   ],
   "source": [
    "for extension in file_count:\n",
    "    print(extension)"
   ]
  },
  {
   "cell_type": "code",
   "execution_count": 56,
   "metadata": {},
   "outputs": [
    {
     "name": "stdout",
     "output_type": "stream",
     "text": [
      "there are 20 in jpg\n",
      "there are 14 in txt\n",
      "there are 9 in csv\n",
      "there are 21 in py\n",
      "there are 6 in dictt\n"
     ]
    }
   ],
   "source": [
    "for ext, amount in file_count.items():\n",
    "    print(f\"there are {amount} in {ext}\")"
   ]
  },
  {
   "cell_type": "code",
   "execution_count": 60,
   "metadata": {},
   "outputs": [
    {
     "name": "stdout",
     "output_type": "stream",
     "text": [
      "{'a': 6}\n",
      "{'r': 1, 'e': 1, 'n': 2, 'a': 1, 't': 1}\n",
      "{'a': 2, ' ': 6, 's': 2, 't': 5, 'r': 2, 'i': 2, 'n': 1, 'g': 1, 'w': 1, 'h': 1, 'l': 2, 'o': 2, 'f': 1, 'e': 2}\n",
      "{'a': 2, ' ': 8, 's': 2, 't': 5, 'r': 2, 'i': 2, 'n': 1, 'g': 1, 'w': 1, 'h': 1, 'l': 2, 'o': 2, 'f': 1, 'e': 2, '5': 1, '6': 1, ',': 1, '8': 2}\n"
     ]
    }
   ],
   "source": [
    "def count_letters(text):\n",
    "    result = {}\n",
    "    for letter in text:\n",
    "        if letter not in result:\n",
    "            result[letter] =0\n",
    "        result[letter] += 1\n",
    "    return result\n",
    "print (count_letters(\"aaaaaa\"))\n",
    "print(count_letters(\"renant\"))\n",
    "print (count_letters(\"a string with a lot of letters\"))\n",
    "print (count_letters(\"a string with a lot of letters 56, 88\"))\n"
   ]
  },
  {
   "cell_type": "code",
   "execution_count": 82,
   "metadata": {},
   "outputs": [
    {
     "name": "stdout",
     "output_type": "stream",
     "text": [
      "John\n",
      "John\n",
      "Alice\n",
      "JohnDoe\n"
     ]
    }
   ],
   "source": [
    "survey_response ={\"John\" : \"Yes\",\"Jane\" : \"No\", \"Bob\" : \"Maybe\", \"Alice\" : \"Yes\", \"Mike\" : \"No\", \"JohnDoe\" : \"Yes\"}\n",
    "key = next(key for key, value in survey_response.items() if value == 'Yes')\n",
    "print(key) # print john\n",
    "\n",
    "for key, value in survey_response.items():\n",
    "    if value == 'Yes':\n",
    "        print(key)"
   ]
  },
  {
   "cell_type": "code",
   "execution_count": 92,
   "metadata": {},
   "outputs": [
    {
     "name": "stdout",
     "output_type": "stream",
     "text": [
      "the data type of value 'john' is <class 'str'>\n",
      "the data type of value '30' is <class 'int'>\n",
      "the data type of value '[80, 90, 95]' is <class 'list'>\n"
     ]
    }
   ],
   "source": [
    "my_dict ={\"name\" : \"john\", \"age\" : 30, \"grades\": [80, 90, 95],}\n",
    "\n",
    "for value in my_dict.values():\n",
    "    print(f\"the data type of value '{value}' is {type(value)}\")"
   ]
  },
  {
   "cell_type": "code",
   "execution_count": 88,
   "metadata": {},
   "outputs": [
    {
     "name": "stdout",
     "output_type": "stream",
     "text": [
      "The data type of value 'john' is <class 'str'>\n",
      "The data type of value '30' is <class 'int'>\n",
      "The data type of value '[80, 90, 95]' is <class 'list'>\n"
     ]
    }
   ],
   "source": [
    "my_dict = {\"name\": \"john\", \"age\": 30, \"grades\": [80, 90, 95]}\n",
    "\n",
    "for value in my_dict.values():\n",
    "    print(f\"The data type of value '{value}' is {type(value)}\")\n"
   ]
  }
 ],
 "metadata": {
  "kernelspec": {
   "display_name": "Python 3",
   "language": "python",
   "name": "python3"
  },
  "language_info": {
   "codemirror_mode": {
    "name": "ipython",
    "version": 3
   },
   "file_extension": ".py",
   "mimetype": "text/x-python",
   "name": "python",
   "nbconvert_exporter": "python",
   "pygments_lexer": "ipython3",
   "version": "3.10.10"
  },
  "orig_nbformat": 4
 },
 "nbformat": 4,
 "nbformat_minor": 2
}
